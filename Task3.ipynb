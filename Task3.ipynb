{
 "cells": [
  {
   "cell_type": "markdown",
   "id": "00a6ad6d-6fd8-49e2-af31-6404963a693f",
   "metadata": {},
   "source": [
    "# 3. Create a digit embedding space\n",
    "The third task is to use the trained network as an embedding space for images of written symbols. In this case, you'll use it to differentiate images of the greek letters alpha, beta, and gamma. Make new code files from the prior tasks. Read in your trained network as the first step and make a submodel that includes everything but the output layer..\n",
    "\n",
    "embedding space just means everything up until the classification layer?\n"
   ]
  },
  {
   "cell_type": "code",
   "execution_count": 1,
   "id": "d0f84ef4-405a-47c3-a537-58d464b4fa44",
   "metadata": {},
   "outputs": [],
   "source": [
    "# to move files\n",
    "import os\n",
    "import shutil\n",
    "from os import walk\n",
    "from os.path import exists\n",
    "\n",
    "from pathlib import Path\n",
    "\n",
    "# import previous notebook\n",
    "import nbimporter\n",
    "import Task1AE as Note1AE\n",
    "import Task1FG as Note1FG\n",
    "\n",
    "# to save to csv\n",
    "import numpy as np\n",
    "import pandas as pd\n",
    "\n",
    "import torch\n",
    "import torch.nn.functional as F\n",
    "import torch.optim as optim\n",
    "\n",
    "import torchvision\n",
    "from torchvision import datasets, transforms\n",
    "from matplotlib import pyplot as plt\n",
    "\n",
    "from enum import Enum\n"
   ]
  },
  {
   "cell_type": "code",
   "execution_count": 2,
   "id": "2662c92b-b3dc-47c9-96bd-f76247c0d8e1",
   "metadata": {},
   "outputs": [],
   "source": [
    "# global variables\n",
    "\n",
    "class Alphabet(Enum):\n",
    "    ALPHA = 0\n",
    "    BETA= 1\n",
    "    GAMMA = 2\n",
    "\n",
    "batch_size = 30\n",
    "transform = transforms.Compose(\n",
    "            [ \n",
    "                Note1FG.NegativeMaxContrast(),\n",
    "                transforms.Grayscale(),\n",
    "                transforms.Resize(28),\n",
    "                transforms.ToTensor(),\n",
    "                # normalize with mean and std\n",
    "                transforms.Normalize((0.1307,), (0.3801,)),\n",
    "            ])"
   ]
  },
  {
   "cell_type": "code",
   "execution_count": 3,
   "id": "463c2ca1-6ba8-415e-b921-c9cb2fe07d18",
   "metadata": {},
   "outputs": [
    {
     "name": "stdout",
     "output_type": "stream",
     "text": [
      "Directory path:  images/greek\n",
      "Folder name:  ['beta', 'gamma', 'alpha']\n",
      "Directory path:  images/greek/beta\n",
      "Folder name:  []\n",
      "Directory path:  images/greek/gamma\n",
      "Folder name:  []\n",
      "Directory path:  images/greek/alpha\n",
      "Folder name:  []\n"
     ]
    }
   ],
   "source": [
    "# Check that folders are set correctly, and there are no ipynb files\n",
    "from os import walk\n",
    "for (dirpath, dirnames, filenames) in walk(\"images/greek\"):\n",
    "    print(\"Directory path: \", dirpath)\n",
    "    print(\"Folder name: \", dirnames)"
   ]
  },
  {
   "cell_type": "code",
   "execution_count": 4,
   "id": "49471571-495e-4030-8657-9947ddb6802f",
   "metadata": {},
   "outputs": [
    {
     "name": "stdout",
     "output_type": "stream",
     "text": [
      "Directory path:  images/own_greek\n",
      "Folder name:  ['beta', 'gamma', 'alpha']\n",
      "Directory path:  images/own_greek/beta\n",
      "Folder name:  []\n",
      "Directory path:  images/own_greek/gamma\n",
      "Folder name:  []\n",
      "Directory path:  images/own_greek/alpha\n",
      "Folder name:  []\n"
     ]
    }
   ],
   "source": [
    "# Check that folders are set correctly, and there are no ipynb files\n",
    "from os import walk\n",
    "for (dirpath, dirnames, filenames) in walk(\"images/own_greek\"):\n",
    "    print(\"Directory path: \", dirpath)\n",
    "    print(\"Folder name: \", dirnames)"
   ]
  },
  {
   "cell_type": "markdown",
   "id": "e3d597a3-30e8-4b45-a4f6-59ca868f06ae",
   "metadata": {},
   "source": [
    "## A. Create a greek symbol data set\n",
    "Write a program to read in the images, scale them down to 28x28, convert them to greyscale, invert the intensities\n"
   ]
  },
  {
   "cell_type": "code",
   "execution_count": 5,
   "id": "ca5af917-f3c8-4c25-bbe2-96467d63c973",
   "metadata": {},
   "outputs": [],
   "source": [
    "# create Greek dataset class\n",
    "class GreekLetterDataset:\n",
    "    def __init__(self, data_csv, target_csv, transform=None):\n",
    "\n",
    "        # get numpy array from csv\n",
    "        data = pd.read_csv(data_csv).to_numpy()\n",
    "        targets = pd.read_csv(target_csv).to_numpy().flatten(order=\"F\")\n",
    "        \n",
    "        self.data = torch.from_numpy(data)\n",
    "        self.targets = torch.from_numpy(targets)\n",
    "        self.transform = transform\n",
    "        self.n_samples = data.shape[0]\n",
    "        \n",
    "    def __len__(self):\n",
    "        return self.n_samples\n",
    "    \n",
    "    # to support the indexing such that dataset[i]\n",
    "    # can be used to get ith sample.\n",
    "    def __getitem__(self, idx):\n",
    "        return self.data[idx], self.targets[idx]"
   ]
  },
  {
   "cell_type": "code",
   "execution_count": 6,
   "id": "edd077b5-ebd7-413f-9795-ba80ad3be72e",
   "metadata": {},
   "outputs": [],
   "source": [
    "def move_filenames_to_category_folder(dataset_name):\n",
    "    \"\"\"\n",
    "    a function that creates category folders inside the dataset folder\n",
    "    based on the filename. Then move the filenames to the correct folder  \n",
    "    \"\"\"\n",
    "    # images/greek/\n",
    "    target_path = \"images/\" + dataset_name + \"/\"\n",
    "    \n",
    "    # 1. get all filenames in the folder\n",
    "    all_filenames = []\n",
    "    for (dirpath, dirnames, filenames) in walk(target_path):\n",
    "        if(dirpath == target_path):\n",
    "            # get unique filenames\n",
    "            all_filenames = filenames\n",
    "\n",
    "    # 2. grab all the letters\n",
    "    alphabet = []\n",
    "    for filename in all_filenames:\n",
    "        letter = filename.split(\"_\")[0]\n",
    "        alphabet.append(letter)\n",
    "\n",
    "    # 3. remove duplicates\n",
    "    alphabet = list(set(alphabet))\n",
    "    \n",
    "    # 4. create unique folder\n",
    "    for letter in alphabet:\n",
    "        try:\n",
    "            # create folder\n",
    "            os.mkdir(target_path + letter)\n",
    "        except OSError as error: \n",
    "            print(error)  \n",
    "        \n",
    "    # 5. loop through each files again\n",
    "    for filename in os.listdir(target_path):\n",
    "        letter_bit = filename.split(\"_\")[0]\n",
    "        \n",
    "        if (letter_bit in alphabet and len(filename.split(\"_\")) > 1):\n",
    "            old_path = target_path + filename\n",
    "            new_path = target_path + letter_bit + \"/\" + filename \n",
    "            # move this file to the correct category folder\n",
    "            shutil.move(old_path, new_path)\n",
    "            "
   ]
  },
  {
   "cell_type": "code",
   "execution_count": 7,
   "id": "2561eb25-c4af-4127-9273-8bace481bfa0",
   "metadata": {},
   "outputs": [],
   "source": [
    "def check_valid(path):\n",
    "    path = Path(path)\n",
    "    return not path.stem.startswith('.')\n",
    "\n",
    "def upload_to_ImageFolder(dataset_name, batch_size, transform, check_valid):\n",
    "    \"\"\" A function that takes in a dataset name from local \"images/\"\n",
    "        directory and batch size then: \n",
    "        - performs transformation to the dataset\n",
    "        - upload the images to PyTorch's ImageFolder\n",
    "        - it returns a dataLoader object \n",
    "    \"\"\"\n",
    "\n",
    "    # - create the dataset from our images folder to datasets\n",
    "    dataset = datasets.ImageFolder(\"images/\" + dataset_name,\n",
    "                                   transform=transform,\n",
    "                                   is_valid_file=check_valid)\n",
    "\n",
    "    # - get dataloader for our images\n",
    "    dataloader = torch.utils.data.DataLoader(dataset, batch_size=30)\n",
    "    return dataloader"
   ]
  },
  {
   "cell_type": "code",
   "execution_count": 8,
   "id": "e5ce39c2-34f2-468a-969e-60ea81d60f4e",
   "metadata": {
    "scrolled": true,
    "tags": []
   },
   "outputs": [],
   "source": [
    "def save_data_as_csv(dataloader, dataset_name, is_overwrite):\n",
    "    \n",
    "    \"\"\"\n",
    "    A function that:\n",
    "    - extract the data and target from dataloader\n",
    "    - save them both as two separate csv files. \n",
    "    - if is_overwrite is false, it will not write anything if data already exists\n",
    "    \"\"\"\n",
    "    \n",
    "    data_filename = dataset_name + '.csv'\n",
    "    target_filename = dataset_name + '_target.csv'\n",
    "    \n",
    "    if(is_overwrite):\n",
    "        is_write = True\n",
    "    else:\n",
    "        # not overwrite means if file already exists dont write\n",
    "        is_write = not(os.path.exists(data_filename))\n",
    "    \n",
    "\n",
    "    if(is_write):\n",
    "        # 1. load the data\n",
    "        data, target = next(iter(dataloader))\n",
    "        csv_np = np.array([])\n",
    "\n",
    "\n",
    "        # 2. create empty csv file with the headers\n",
    "        header_list = list(map(str, range(0, 784)))\n",
    "        header_str = ','.join(header_list)\n",
    "        with open(data_filename, 'w') as csvfile:\n",
    "            np.savetxt(csvfile, [], header=header_str,\n",
    "                    delimiter=',', fmt='%s', comments='')\n",
    "\n",
    "        with open(target_filename, 'w') as csvtargetfile:\n",
    "            np.savetxt(csvtargetfile, [], header=\"category\",\n",
    "                    delimiter=',', fmt='%s', comments='')\n",
    "\n",
    "        # 3. loop through each image and append to csv\n",
    "        print(len(data))\n",
    "        for i in range(len(data)):\n",
    "            print(\"\\nindex:>>>>\", i)\n",
    "            # - display the image info\n",
    "            img_mat = data[i][0]\n",
    "            ground_truth = target[i].numpy()\n",
    "            print(\"ground truth:\", Alphabet(ground_truth))\n",
    "            plt.imshow(img_mat, cmap=\"gray\", interpolation=\"none\")\n",
    "            plt.show()\n",
    "\n",
    "            # - create a new csv row\n",
    "            csv_row_np = np.array([])\n",
    "\n",
    "            # - for each row in a single image\n",
    "            for img_row in img_mat:\n",
    "\n",
    "                # - append it as a single row\n",
    "                img_row_np = img_row.numpy()\n",
    "                csv_row_np = np.append(csv_row_np, [img_row_np])\n",
    "\n",
    "            # - append this image row and target in csv file\n",
    "            with open(data_filename, 'a') as csvfile:\n",
    "                np.savetxt(csvfile, [csv_row_np], delimiter=',', fmt='%s', comments='')\n",
    "\n",
    "            with open(target_filename, 'a') as csvtargetfile:\n",
    "                np.savetxt(csvtargetfile, [ground_truth],\n",
    "                        delimiter=',', fmt='%s', comments='')\n",
    "\n"
   ]
  },
  {
   "cell_type": "code",
   "execution_count": 9,
   "id": "c3559ef5-efb7-4276-a9fa-c9379cf0e237",
   "metadata": {},
   "outputs": [],
   "source": [
    "def get_greek_dataloader_from_csv(data_csv, target_csv):\n",
    "    \"\"\"\n",
    "    A function that:\n",
    "    - extract dataset from csv file\n",
    "    - create a dataloader of the dataset and return it\n",
    "    \"\"\"\n",
    "    # 1. create dataset from csv file\n",
    "    greek_dataset = GreekLetterDataset(data_csv, target_csv)\n",
    "\n",
    "    # # 2. get data from dataset\n",
    "    csv_dataloader = torch.utils.data.DataLoader(greek_dataset,\n",
    "                                                 batch_size=30)\n",
    "    \n",
    "    return csv_dataloader\n",
    "    "
   ]
  },
  {
   "cell_type": "code",
   "execution_count": 10,
   "id": "426f9048-6355-4109-92f4-39db95540b79",
   "metadata": {},
   "outputs": [],
   "source": [
    "def create_Dataset_CSV(dataset_name):\n",
    "    \"\"\"\n",
    "    A wrapper function that:\n",
    "    - creates Dataset from images folder\n",
    "    - save it to ImageFolder and save it as csv file\n",
    "    - reload it from csv file and return the dataloader\n",
    "    \"\"\"\n",
    "    # 1. move files to folder based on category\n",
    "    move_filenames_to_category_folder(dataset_name)\n",
    "\n",
    "    # 2. upload files to Pytorch ImageFolder\n",
    "    own_dataloader = upload_to_ImageFolder(dataset_name, batch_size, transform, check_valid)\n",
    "\n",
    "    # 3. save the data as csv\n",
    "    save_data_as_csv(own_dataloader, dataset_name, is_overwrite=True)\n",
    "\n",
    "    # 4. reload data from csv \n",
    "    csv_dataloader = get_greek_dataloader_from_csv( dataset_name+ \".csv\",\n",
    "                                       dataset_name + \"_target.csv\")\n",
    "    return csv_dataloader"
   ]
  },
  {
   "cell_type": "code",
   "execution_count": 11,
   "id": "c9d2124b-e414-457f-87b7-6972dd60c11b",
   "metadata": {
    "scrolled": true,
    "tags": []
   },
   "outputs": [
    {
     "name": "stdout",
     "output_type": "stream",
     "text": [
      "27\n",
      "\n",
      "index:>>>> 0\n",
      "ground truth: Alphabet.ALPHA\n"
     ]
    },
    {
     "data": {
      "image/png": "[encoded data removed]",
      "text/plain": [
       "<Figure size 432x288 with 1 Axes>"
      ]
     },
     "metadata": {
      "needs_background": "light"
     },
     "output_type": "display_data"
    },
    {
     "name": "stdout",
     "output_type": "stream",
     "text": [
      "\n",
      "index:>>>> 1\n",
      "ground truth: Alphabet.ALPHA\n"
     ]
    },
    {
     "data": {
      "image/png": "[encoded data removed]",
      "text/plain": [
       "<Figure size 432x288 with 1 Axes>"
      ]
     },
     "metadata": {
      "needs_background": "light"
     },
     "output_type": "display_data"
    },
    {
     "name": "stdout",
     "output_type": "stream",
     "text": [
      "\n",
      "index:>>>> 2\n",
      "ground truth: Alphabet.ALPHA\n"
     ]
    },
    {
     "data": {
      "image/png": "[encoded data removed]",
      "text/plain": [
       "<Figure size 432x288 with 1 Axes>"
      ]
     },
     "metadata": {
      "needs_background": "light"
     },
     "output_type": "display_data"
    },
    {
     "name": "stdout",
     "output_type": "stream",
     "text": [
      "\n",
      "index:>>>> 3\n",
      "ground truth: Alphabet.ALPHA\n"
     ]
    },
    {
     "data": {
      "image/png": "[encoded data removed]",
      "text/plain": [
       "<Figure size 432x288 with 1 Axes>"
      ]
     },
     "metadata": {
      "needs_background": "light"
     },
     "output_type": "display_data"
    },
    {
     "name": "stdout",
     "output_type": "stream",
     "text": [
      "\n",
      "index:>>>> 4\n",
      "ground truth: Alphabet.ALPHA\n"
     ]
    },
    {
     "data": {
      "image/png": "[encoded data removed]",
      "text/plain": [
       "<Figure size 432x288 with 1 Axes>"
      ]
     },
     "metadata": {
      "needs_background": "light"
     },
     "output_type": "display_data"
    },
    {
     "name": "stdout",
     "output_type": "stream",
     "text": [
      "\n",
      "index:>>>> 5\n",
      "ground truth: Alphabet.ALPHA\n"
     ]
    },
    {
     "data": {
      "image/png": "[encoded data removed]",
      "text/plain": [
       "<Figure size 432x288 with 1 Axes>"
      ]
     },
     "metadata": {
      "needs_background": "light"
     },
     "output_type": "display_data"
    },
    {
     "name": "stdout",
     "output_type": "stream",
     "text": [
      "\n",
      "index:>>>> 6\n",
      "ground truth: Alphabet.ALPHA\n"
     ]
    },
    {
     "data": {
      "image/png": "[encoded data removed]",
      "text/plain": [
       "<Figure size 432x288 with 1 Axes>"
      ]
     },
     "metadata": {
      "needs_background": "light"
     },
     "output_type": "display_data"
    },
    {
     "name": "stdout",
     "output_type": "stream",
     "text": [
      "\n",
      "index:>>>> 7\n",
      "ground truth: Alphabet.ALPHA\n"
     ]
    },
    {
     "data": {
      "image/png": "[encoded data removed]",
      "text/plain": [
       "<Figure size 432x288 with 1 Axes>"
      ]
     },
     "metadata": {
      "needs_background": "light"
     },
     "output_type": "display_data"
    },
    {
     "name": "stdout",
     "output_type": "stream",
     "text": [
      "\n",
      "index:>>>> 8\n",
      "ground truth: Alphabet.ALPHA\n"
     ]
    },
    {
     "data": {
      "image/png": "[encoded data removed]",
      "text/plain": [
       "<Figure size 432x288 with 1 Axes>"
      ]
     },
     "metadata": {
      "needs_background": "light"
     },
     "output_type": "display_data"
    },
    {
     "name": "stdout",
     "output_type": "stream",
     "text": [
      "\n",
      "index:>>>> 9\n",
      "ground truth: Alphabet.BETA\n"
     ]
    },
    {
     "data": {
      "image/png": "[encoded data removed]",
      "text/plain": [
       "<Figure size 432x288 with 1 Axes>"
      ]
     },
     "metadata": {
      "needs_background": "light"
     },
     "output_type": "display_data"
    },
    {
     "name": "stdout",
     "output_type": "stream",
     "text": [
      "\n",
      "index:>>>> 10\n",
      "ground truth: Alphabet.BETA\n"
     ]
    },
    {
     "data": {
      "image/png": "[encoded data removed]",
      "text/plain": [
       "<Figure size 432x288 with 1 Axes>"
      ]
     },
     "metadata": {
      "needs_background": "light"
     },
     "output_type": "display_data"
    },
    {
     "name": "stdout",
     "output_type": "stream",
     "text": [
      "\n",
      "index:>>>> 11\n",
      "ground truth: Alphabet.BETA\n"
     ]
    },
    {
     "data": {
      "image/png": "[encoded data removed]",
      "text/plain": [
       "<Figure size 432x288 with 1 Axes>"
      ]
     },
     "metadata": {
      "needs_background": "light"
     },
     "output_type": "display_data"
    },
    {
     "name": "stdout",
     "output_type": "stream",
     "text": [
      "\n",
      "index:>>>> 12\n",
      "ground truth: Alphabet.BETA\n"
     ]
    },
    {
     "data": {
      "image/png": "[encoded data removed]",
      "text/plain": [
       "<Figure size 432x288 with 1 Axes>"
      ]
     },
     "metadata": {
      "needs_background": "light"
     },
     "output_type": "display_data"
    },
    {
     "name": "stdout",
     "output_type": "stream",
     "text": [
      "\n",
      "index:>>>> 13\n",
      "ground truth: Alphabet.BETA\n"
     ]
    },
    {
     "data": {
      "image/png": "[encoded data removed]",
      "text/plain": [
       "<Figure size 432x288 with 1 Axes>"
      ]
     },
     "metadata": {
      "needs_background": "light"
     },
     "output_type": "display_data"
    },
    {
     "name": "stdout",
     "output_type": "stream",
     "text": [
      "\n",
      "index:>>>> 14\n",
      "ground truth: Alphabet.BETA\n"
     ]
    },
    {
     "data": {
      "image/png": "[encoded data removed]",
      "text/plain": [
       "<Figure size 432x288 with 1 Axes>"
      ]
     },
     "metadata": {
      "needs_background": "light"
     },
     "output_type": "display_data"
    },
    {
     "name": "stdout",
     "output_type": "stream",
     "text": [
      "\n",
      "index:>>>> 15\n",
      "ground truth: Alphabet.BETA\n"
     ]
    },
    {
     "data": {
      "image/png": "[encoded data removed]",
      "text/plain": [
       "<Figure size 432x288 with 1 Axes>"
      ]
     },
     "metadata": {
      "needs_background": "light"
     },
     "output_type": "display_data"
    },
    {
     "name": "stdout",
     "output_type": "stream",
     "text": [
      "\n",
      "index:>>>> 16\n",
      "ground truth: Alphabet.BETA\n"
     ]
    },
    {
     "data": {
      "image/png": "[encoded data removed]",
      "text/plain": [
       "<Figure size 432x288 with 1 Axes>"
      ]
     },
     "metadata": {
      "needs_background": "light"
     },
     "output_type": "display_data"
    },
    {
     "name": "stdout",
     "output_type": "stream",
     "text": [
      "\n",
      "index:>>>> 17\n",
      "ground truth: Alphabet.BETA\n"
     ]
    },
    {
     "data": {
      "image/png": "[encoded data removed]",
      "text/plain": [
       "<Figure size 432x288 with 1 Axes>"
      ]
     },
     "metadata": {
      "needs_background": "light"
     },
     "output_type": "display_data"
    },
    {
     "name": "stdout",
     "output_type": "stream",
     "text": [
      "\n",
      "index:>>>> 18\n",
      "ground truth: Alphabet.GAMMA\n"
     ]
    },
    {
     "data": {
      "image/png": "[encoded data removed]",
      "text/plain": [
       "<Figure size 432x288 with 1 Axes>"
      ]
     },
     "metadata": {
      "needs_background": "light"
     },
     "output_type": "display_data"
    },
    {
     "name": "stdout",
     "output_type": "stream",
     "text": [
      "\n",
      "index:>>>> 19\n",
      "ground truth: Alphabet.GAMMA\n"
     ]
    },
    {
     "data": {
      "image/png": "[encoded data removed]",
      "text/plain": [
       "<Figure size 432x288 with 1 Axes>"
      ]
     },
     "metadata": {
      "needs_background": "light"
     },
     "output_type": "display_data"
    },
    {
     "name": "stdout",
     "output_type": "stream",
     "text": [
      "\n",
      "index:>>>> 20\n",
      "ground truth: Alphabet.GAMMA\n"
     ]
    },
    {
     "data": {
      "image/png": "[encoded data removed]",
      "text/plain": [
       "<Figure size 432x288 with 1 Axes>"
      ]
     },
     "metadata": {
      "needs_background": "light"
     },
     "output_type": "display_data"
    },
    {
     "name": "stdout",
     "output_type": "stream",
     "text": [
      "\n",
      "index:>>>> 21\n",
      "ground truth: Alphabet.GAMMA\n"
     ]
    },
    {
     "data": {
      "image/png": "[encoded data removed]",
      "text/plain": [
       "<Figure size 432x288 with 1 Axes>"
      ]
     },
     "metadata": {
      "needs_background": "light"
     },
     "output_type": "display_data"
    },
    {
     "name": "stdout",
     "output_type": "stream",
     "text": [
      "\n",
      "index:>>>> 22\n",
      "ground truth: Alphabet.GAMMA\n"
     ]
    },
    {
     "data": {
      "image/png": "[encoded data removed]",
      "text/plain": [
       "<Figure size 432x288 with 1 Axes>"
      ]
     },
     "metadata": {
      "needs_background": "light"
     },
     "output_type": "display_data"
    },
    {
     "name": "stdout",
     "output_type": "stream",
     "text": [
      "\n",
      "index:>>>> 23\n",
      "ground truth: Alphabet.GAMMA\n"
     ]
    },
    {
     "data": {
      "image/png": "[encoded data removed]",
      "text/plain": [
       "<Figure size 432x288 with 1 Axes>"
      ]
     },
     "metadata": {
      "needs_background": "light"
     },
     "output_type": "display_data"
    },
    {
     "name": "stdout",
     "output_type": "stream",
     "text": [
      "\n",
      "index:>>>> 24\n",
      "ground truth: Alphabet.GAMMA\n"
     ]
    },
    {
     "data": {
      "image/png": "[encoded data removed]",
      "text/plain": [
       "<Figure size 432x288 with 1 Axes>"
      ]
     },
     "metadata": {
      "needs_background": "light"
     },
     "output_type": "display_data"
    },
    {
     "name": "stdout",
     "output_type": "stream",
     "text": [
      "\n",
      "index:>>>> 25\n",
      "ground truth: Alphabet.GAMMA\n"
     ]
    },
    {
     "data": {
      "image/png": "[encoded data removed]",
      "text/plain": [
       "<Figure size 432x288 with 1 Axes>"
      ]
     },
     "metadata": {
      "needs_background": "light"
     },
     "output_type": "display_data"
    },
    {
     "name": "stdout",
     "output_type": "stream",
     "text": [
      "\n",
      "index:>>>> 26\n",
      "ground truth: Alphabet.GAMMA\n"
     ]
    },
    {
     "data": {
      "image/png": "[encoded data removed]",
      "text/plain": [
       "<Figure size 432x288 with 1 Axes>"
      ]
     },
     "metadata": {
      "needs_background": "light"
     },
     "output_type": "display_data"
    }
   ],
   "source": [
    "dataset_name = \"greek\"\n",
    "dataloader = create_Dataset_CSV(dataset_name)"
   ]
  },
  {
   "cell_type": "markdown",
   "id": "8b48d1e3-17d1-4829-8d36-3814b54ffcac",
   "metadata": {},
   "source": [
    "## B. Create Truncated Model"
   ]
  },
  {
   "cell_type": "markdown",
   "id": "e306ed83-0bee-467a-90e1-d7bc01a442a8",
   "metadata": {},
   "source": [
    "Read in the trained model and build a new model from the old network that terminates at the Dense layer with 50 outputs. Show that if you apply the network to the first training input image that it gives 50 numbers as its output."
   ]
  },
  {
   "cell_type": "code",
   "execution_count": 12,
   "id": "1a9d01f1-d367-4b82-97cc-e937d0463734",
   "metadata": {},
   "outputs": [],
   "source": [
    "# 1. Create a Submodel object \n",
    "class SubmodelDense1(Note1AE.NeuralNetwork):\n",
    "\n",
    "    def __init__(self, *args, **kwargs):\n",
    "        super().__init__(*args, **kwargs)\n",
    "\n",
    "    def forward( self, x ):\n",
    "        # 1. first conv, max pool, relu\n",
    "        x = F.relu(F.max_pool2d(self.conv1(x), 2))\n",
    "        \n",
    "        # 2. 2nd conv, droptout layer, max pool, relu\n",
    "        x = F.relu(F.max_pool2d(self.conv2_drop(self.conv2(x)), 2))\n",
    "        \n",
    "        # 3. reshape tensor.\n",
    "        x = x.view(-1, 320)\n",
    "        \n",
    "        # 4. fully connected, relu\n",
    "        x = F.relu(self.fc1(x))\n",
    "\n",
    "        return x"
   ]
  },
  {
   "cell_type": "code",
   "execution_count": 13,
   "id": "9d1a0b26-be72-4e28-8056-f5c7c5a23ed6",
   "metadata": {},
   "outputs": [],
   "source": [
    "def create_truncated_model_and_run_one_image(dataloader):\n",
    "    \"\"\"\n",
    "    Create truncated model and run it on first image from the dataloader\n",
    "    \"\"\"\n",
    "    \n",
    "    # 1. init network\n",
    "    subnetwork = SubmodelDense1()\n",
    "    subnetwork.double()\n",
    "    Note1FG.load_network_state(subnetwork)\n",
    "    \n",
    "    # 2. grab a single image\n",
    "    img = Note1FG.load_firstN_data(dataloader, 1)[0]\n",
    "    \n",
    "    # 3. run\n",
    "    reshaped_data = torch.reshape(img, (1, 1, 28, 28))\n",
    "    outputSub = Note1FG.run_network(subnetwork, reshaped_data)\n",
    "    print(outputSub.shape)\n",
    "    \n",
    "    return subnetwork"
   ]
  },
  {
   "cell_type": "code",
   "execution_count": 14,
   "id": "ec4b188e-b7bc-4b8f-b022-6d632ed306ba",
   "metadata": {},
   "outputs": [
    {
     "name": "stdout",
     "output_type": "stream",
     "text": [
      "torch.Size([1, 50])\n"
     ]
    }
   ],
   "source": [
    "subnetwork = create_truncated_model_and_run_one_image(dataloader)"
   ]
  },
  {
   "cell_type": "markdown",
   "id": "53fdb7a8-267d-467f-9f69-edfe48eb83f3",
   "metadata": {},
   "source": [
    "## C. Project the greek symbols into the embedding space "
   ]
  },
  {
   "cell_type": "markdown",
   "id": "31da5658-db38-49d3-8a6e-e6a6e03fb6fb",
   "metadata": {},
   "source": [
    "Apply the truncated network to the greek symbols (read from the CSV file) to get a set of 27 50 element vectors."
   ]
  },
  {
   "cell_type": "code",
   "execution_count": 15,
   "id": "67de3a6a-4730-4bdf-8354-e0caf44d15b5",
   "metadata": {},
   "outputs": [
    {
     "name": "stdout",
     "output_type": "stream",
     "text": [
      "torch.Size([27, 50])\n",
      "tensor([0.0000, 0.0000, 2.0137, 0.0000, 0.0000, 0.5122, 0.9594, 0.0000, 0.0000,\n",
      "        1.4064, 0.0000, 0.0000, 0.0000, 0.0000, 0.0000, 0.7797, 0.0000, 1.8392,\n",
      "        0.0000, 0.0000, 0.0000, 0.0000, 0.0000, 0.6899, 0.7142, 0.0000, 0.0000,\n",
      "        0.0000, 0.0000, 0.3001, 1.5785, 0.0000, 0.5450, 0.0000, 0.5196, 0.6088,\n",
      "        4.4112, 4.8668, 0.0000, 0.0000, 0.0000, 0.0000, 0.4401, 1.2034, 4.2384,\n",
      "        0.0000, 0.0000, 1.0302, 0.2362, 0.0000], dtype=torch.float64)\n"
     ]
    }
   ],
   "source": [
    "csv_dataloader = get_greek_dataloader_from_csv(\"greek.csv\",\n",
    "                                       \"greek_target.csv\")\n",
    "\n",
    "# run the subnetwork through the data from csv file\n",
    "with torch.no_grad():\n",
    "    data_from_csv, target = next(iter(csv_dataloader))\n",
    "    # subnetwork.double() \n",
    "    subnetwork.eval()\n",
    "    reshaped_data = torch.reshape(data_from_csv, (27, 1, 28, 28))\n",
    "    output = subnetwork(reshaped_data)\n",
    "    \n",
    "print(output.shape)\n",
    "print(output[0])"
   ]
  },
  {
   "cell_type": "markdown",
   "id": "97a762d9-7c89-4e60-b911-652f3413d93d",
   "metadata": {},
   "source": [
    "## D. Compute distances in the embedding space (1 for each letter)\n",
    "\n",
    "Select one example from each set of nine (i.e. one alpha, one beta, and one gamma). Compute the sum-squared distance in the 50 dimensional embedding space between each example and all 27 examples. Note that the SSD with itself should be 0. For each example show all 27 SSD values. What pattern do you find? How well would a nearest neighbor or K-NN classifier in the embedding space do for this task?\n",
    "\n",
    "\n",
    ">> alpha is more similar to gamma than it is to beta\n"
   ]
  },
  {
   "cell_type": "code",
   "execution_count": 16,
   "id": "a168c56b-2974-41e0-a278-3bd53f2969f6",
   "metadata": {},
   "outputs": [],
   "source": [
    "def compute_ssd(vec1, vec2):\n",
    "    \"\"\"\n",
    "        A function that computes SSD between two vectors of PyTorch tensor object\n",
    "    \"\"\"\n",
    "    error = 0;\n",
    "    for i in range(len(vec1)):\n",
    "        val1 = vec1[i].item()\n",
    "        val2 = vec2[i].item()\n",
    "        error += (val1 - val2) * (val1 - val2)\n",
    "    return error\n",
    "\n",
    "\n",
    "def compute_ssd_all_data(sample_alphabet, data, letter_name):\n",
    "    \"\"\"\n",
    "        A function that computes SSD between \n",
    "        the vector of a sample alphabet to all of the other vector in a data\n",
    "    \"\"\"\n",
    "    print(\"\\n>>>>>>>>> SSD for \" +  letter_name +\" sample:\")\n",
    "    i = 0;\n",
    "    for other_letter in data:\n",
    "        ssd = compute_ssd(sample_alphabet, other_letter)\n",
    "        if(i == 0):\n",
    "            print(\"> alpha:\")\n",
    "        elif(i == 9):\n",
    "            print(\"> beta:\")\n",
    "        elif(i == 18):\n",
    "            print(\"> gamma:\")\n",
    "        print(ssd)\n",
    "        i+=1"
   ]
  },
  {
   "cell_type": "code",
   "execution_count": 17,
   "id": "66c21dba-e7ad-43bb-9b70-abf9433fd313",
   "metadata": {
    "scrolled": true,
    "tags": []
   },
   "outputs": [
    {
     "name": "stdout",
     "output_type": "stream",
     "text": [
      "\n",
      ">>>>>>>>> SSD for alpha sample:\n",
      "> alpha:\n",
      "0.0\n",
      "145.71018953677378\n",
      "148.18534627528743\n",
      "205.30217140303603\n",
      "265.90920822010884\n",
      "212.59139626381526\n",
      "253.7849479137381\n",
      "178.32227874274432\n",
      "247.11353181129962\n",
      "> beta:\n",
      "473.8587681664569\n",
      "360.1358404083535\n",
      "290.6984692196058\n",
      "289.51980688431905\n",
      "318.57728727192415\n",
      "297.6417491436447\n",
      "277.0915431346822\n",
      "275.75906871207053\n",
      "313.4423960100212\n",
      "> gamma:\n",
      "365.86735023672827\n",
      "285.4380817204958\n",
      "273.3186120223665\n",
      "255.84965821041678\n",
      "299.3019680983377\n",
      "315.84538480531177\n",
      "272.8070394353093\n",
      "291.4219748743524\n",
      "254.42425785362107\n",
      "\n",
      ">>>>>>>>> SSD for beta sample:\n",
      "> alpha:\n",
      "473.8587681664569\n",
      "476.4551675125685\n",
      "415.6091590921867\n",
      "475.3981726704681\n",
      "441.59602574935474\n",
      "416.44879913559765\n",
      "423.46807547193026\n",
      "429.17436318669394\n",
      "391.70722502105235\n",
      "> beta:\n",
      "0.0\n",
      "318.6987414534689\n",
      "368.8438649231989\n",
      "306.7226524735125\n",
      "309.35481748401435\n",
      "380.247818027616\n",
      "340.4724249405804\n",
      "317.2006402442603\n",
      "281.70304746471595\n",
      "> gamma:\n",
      "500.1763578351554\n",
      "432.98369797579596\n",
      "408.4698120476187\n",
      "378.52618131075906\n",
      "367.07177521989934\n",
      "329.8120971365806\n",
      "380.8365638720335\n",
      "379.27427351746064\n",
      "382.69827996693124\n",
      "\n",
      ">>>>>>>>> SSD for gamma sample:\n",
      "> alpha:\n",
      "365.86735023672827\n",
      "358.1177520807781\n",
      "326.3707351788164\n",
      "290.8887909067632\n",
      "242.9446210733489\n",
      "307.02612318853994\n",
      "309.2372978978942\n",
      "261.09812453976457\n",
      "266.44473211140047\n",
      "> beta:\n",
      "500.1763578351554\n",
      "344.38777518811264\n",
      "309.7128908779706\n",
      "293.7181958952145\n",
      "328.99076763651306\n",
      "282.4235670834579\n",
      "342.06387316242484\n",
      "330.4235133450772\n",
      "401.9926492689538\n",
      "> gamma:\n",
      "0.0\n",
      "173.2571114740717\n",
      "158.28066576136771\n",
      "156.21872659530524\n",
      "180.46650171944276\n",
      "261.6399268600576\n",
      "161.36968835286723\n",
      "193.83499299125418\n",
      "188.46986242256034\n",
      "torch.Size([784])\n"
     ]
    }
   ],
   "source": [
    "# 1. get 1 sample of each letter\n",
    "sample_alpha = data_from_csv[0]\n",
    "sample_beta = data_from_csv[9]\n",
    "sample_gamma = data_from_csv[18]\n",
    "\n",
    "# 2. compute ssd of the 3 samples above to each of the 27 other samples\n",
    "compute_ssd_all_data(sample_alpha, data_from_csv, \"alpha\")\n",
    "compute_ssd_all_data(sample_beta, data_from_csv, \"beta\")\n",
    "compute_ssd_all_data(sample_gamma, data_from_csv, \"gamma\")\n",
    "\n",
    "print(sample_alpha.shape)"
   ]
  },
  {
   "cell_type": "markdown",
   "id": "5623b952-a594-4113-87e0-9d809647c731",
   "metadata": {},
   "source": [
    "## E. Create your own greek symbol data\n",
    "\n",
    "Take a picture of a couple of examples of your own alpha, beta, and gamma symbols. Crop and rescale them as appropriate and see if they match their corresponding symbol examples in the embedding space.\n",
    "\n",
    "    "
   ]
  },
  {
   "cell_type": "code",
   "execution_count": 18,
   "id": "35a516aa-9294-4e74-93f0-209f7cc59733",
   "metadata": {
    "scrolled": true,
    "tags": []
   },
   "outputs": [
    {
     "name": "stdout",
     "output_type": "stream",
     "text": [
      "4\n",
      "\n",
      "index:>>>> 0\n",
      "ground truth: Alphabet.ALPHA\n"
     ]
    },
    {
     "data": {
      "image/png": "[encoded data removed]",
      "text/plain": [
       "<Figure size 432x288 with 1 Axes>"
      ]
     },
     "metadata": {
      "needs_background": "light"
     },
     "output_type": "display_data"
    },
    {
     "name": "stdout",
     "output_type": "stream",
     "text": [
      "\n",
      "index:>>>> 1\n",
      "ground truth: Alphabet.BETA\n"
     ]
    },
    {
     "data": {
      "image/png": "[encoded data removed]",
      "text/plain": [
       "<Figure size 432x288 with 1 Axes>"
      ]
     },
     "metadata": {
      "needs_background": "light"
     },
     "output_type": "display_data"
    },
    {
     "name": "stdout",
     "output_type": "stream",
     "text": [
      "\n",
      "index:>>>> 2\n",
      "ground truth: Alphabet.GAMMA\n"
     ]
    },
    {
     "data": {
      "image/png": "[encoded data removed]",
      "text/plain": [
       "<Figure size 432x288 with 1 Axes>"
      ]
     },
     "metadata": {
      "needs_background": "light"
     },
     "output_type": "display_data"
    },
    {
     "name": "stdout",
     "output_type": "stream",
     "text": [
      "\n",
      "index:>>>> 3\n",
      "ground truth: Alphabet.GAMMA\n"
     ]
    },
    {
     "data": {
      "image/png": "[encoded data removed]",
      "text/plain": [
       "<Figure size 432x288 with 1 Axes>"
      ]
     },
     "metadata": {
      "needs_background": "light"
     },
     "output_type": "display_data"
    }
   ],
   "source": [
    "# - create the Dataset from our images folder \n",
    "dataset_name = \"own_greek\"\n",
    "own_csv_dataloader = create_Dataset_CSV(dataset_name)\n",
    "own_data_from_csv, own_target = next(iter(own_csv_dataloader))"
   ]
  },
  {
   "cell_type": "code",
   "execution_count": 19,
   "id": "6b6888bd-825f-46fc-8466-f5ebefffc79f",
   "metadata": {
    "scrolled": true,
    "tags": []
   },
   "outputs": [
    {
     "name": "stdout",
     "output_type": "stream",
     "text": [
      "\n",
      ">>>>>>>>> SSD for alpha sample:\n",
      "> alpha:\n",
      "442.13143823059454\n",
      "407.1458416375507\n",
      "370.19964433250266\n",
      "436.3727808374815\n",
      "408.46170955455597\n",
      "377.9119849995457\n",
      "393.92264492822085\n",
      "458.41108201746135\n",
      "374.8253025291014\n",
      "> beta:\n",
      "608.9876061584371\n",
      "483.72586318073354\n",
      "410.3125700212757\n",
      "457.41593270208364\n",
      "391.13070900400646\n",
      "399.43211613762355\n",
      "458.339021449832\n",
      "435.41893097969637\n",
      "506.1350168470218\n",
      "> gamma:\n",
      "592.0474638176677\n",
      "470.9337673379992\n",
      "484.05828765032146\n",
      "460.41192483814905\n",
      "506.2373113671858\n",
      "454.6508173630277\n",
      "468.07412889596094\n",
      "473.35367884880134\n",
      "425.9454603654713\n",
      "\n",
      ">>>>>>>>> SSD for beta sample:\n",
      "> alpha:\n",
      "369.2252526400468\n",
      "363.3950671008941\n",
      "329.53682653580745\n",
      "297.3738249849518\n",
      "296.3542981417495\n",
      "330.1275941749067\n",
      "361.87311758669273\n",
      "270.4765326177803\n",
      "257.67070782142514\n",
      "> beta:\n",
      "572.7409638815673\n",
      "347.9621866158231\n",
      "268.6974200737736\n",
      "308.25278806017207\n",
      "386.91816663696596\n",
      "265.13524792868384\n",
      "347.90172672411273\n",
      "361.3982710952404\n",
      "393.4700496044031\n",
      "> gamma:\n",
      "385.23495360842514\n",
      "319.16102736934505\n",
      "332.36538046844464\n",
      "294.1978363704057\n",
      "286.7378742249742\n",
      "291.7699393530467\n",
      "312.94433717474027\n",
      "317.9790640587568\n",
      "299.4158606135894\n",
      "\n",
      ">>>>>>>>> SSD for gamma sample:\n",
      "> alpha:\n",
      "470.8219987469931\n",
      "486.7146132202078\n",
      "439.05965468214185\n",
      "396.77014720501785\n",
      "323.69716062564504\n",
      "411.47516119774275\n",
      "447.0933535772334\n",
      "382.74840618358843\n",
      "359.69706696879894\n",
      "> beta:\n",
      "564.7674023783693\n",
      "437.39018002571004\n",
      "396.16703418753605\n",
      "377.80777590560484\n",
      "413.7835218167274\n",
      "393.90242247574986\n",
      "421.41858282301945\n",
      "458.78534438964755\n",
      "474.80569243320497\n",
      "> gamma:\n",
      "333.68848365519693\n",
      "263.2803417968729\n",
      "349.852745520327\n",
      "214.113338039119\n",
      "261.759352968729\n",
      "321.4688491522697\n",
      "257.94160921818013\n",
      "269.31916151528475\n",
      "263.1184382714317\n",
      "\n",
      ">>>>>>>>> SSD for gamma_a sample:\n",
      "> alpha:\n",
      "393.8844330418067\n",
      "394.2608227969191\n",
      "365.3684410896887\n",
      "384.1817903154451\n",
      "306.56042172679565\n",
      "360.7221316354334\n",
      "344.71742856826637\n",
      "331.78121015107234\n",
      "279.9489370461238\n",
      "> beta:\n",
      "532.2730418699541\n",
      "359.96105422476194\n",
      "327.83935068039256\n",
      "312.0794737491754\n",
      "338.8571208802213\n",
      "305.13587622657974\n",
      "337.35284403936635\n",
      "340.1768236848603\n",
      "388.0098596954413\n",
      "> gamma:\n",
      "355.3906367820424\n",
      "271.763130666097\n",
      "296.0279362564526\n",
      "220.04869314593807\n",
      "291.8661649778946\n",
      "213.77878440513496\n",
      "210.8670924706412\n",
      "237.9075551024172\n",
      "211.80763917664552\n",
      "torch.Size([784])\n"
     ]
    }
   ],
   "source": [
    "# 1. get 1 sample of each letter\n",
    "sample_alpha = own_data_from_csv[0]\n",
    "sample_beta = own_data_from_csv[1]\n",
    "sample_gamma = own_data_from_csv[2]\n",
    "sample_gamma_a = own_data_from_csv[3]\n",
    "\n",
    "# 2. compute ssd of the 3 samples above to each of the 27 other samples\n",
    "compute_ssd_all_data(sample_alpha, data_from_csv, \"alpha\")\n",
    "compute_ssd_all_data(sample_beta, data_from_csv, \"beta\")\n",
    "compute_ssd_all_data(sample_gamma, data_from_csv, \"gamma\")\n",
    "compute_ssd_all_data(sample_gamma_a, data_from_csv, \"gamma_a\")\n",
    "\n",
    "print(sample_alpha.shape)"
   ]
  },
  {
   "cell_type": "code",
   "execution_count": null,
   "id": "f6076286-06ed-45a8-a4f0-59700133153b",
   "metadata": {},
   "outputs": [],
   "source": []
  }
 ],
 "metadata": {
  "kernelspec": {
   "display_name": "Python 3 (ipykernel)",
   "language": "python",
   "name": "python3"
  },
  "language_info": {
   "codemirror_mode": {
    "name": "ipython",
    "version": 3
   },
   "file_extension": ".py",
   "mimetype": "text/x-python",
   "name": "python",
   "nbconvert_exporter": "python",
   "pygments_lexer": "ipython3",
   "version": "3.9.7"
  }
 },
 "nbformat": 4,
 "nbformat_minor": 5
}
