{
 "cells": [
  {
   "cell_type": "markdown",
   "id": "00a6ad6d-6fd8-49e2-af31-6404963a693f",
   "metadata": {},
   "source": [
    "# 3. Create a digit embedding space\n",
    "The third task is to use the trained network as an embedding space for images of written symbols. In this case, you'll use it to differentiate images of the greek letters alpha, beta, and gamma. Make new code files from the prior tasks. Read in your trained network as the first step and make a submodel that includes everything but the output layer..\n",
    "\n",
    "embedding space just means everything up until the classification layer?\n"
   ]
  },
  {
   "cell_type": "code",
   "execution_count": 1,
   "id": "d0f84ef4-405a-47c3-a537-58d464b4fa44",
   "metadata": {},
   "outputs": [],
   "source": [
    "# to move files\n",
    "import os\n",
    "import shutil\n",
    "from os import walk\n",
    "from os.path import exists\n",
    "\n",
    "from pathlib import Path\n",
    "\n",
    "# import previous notebook\n",
    "import nbimporter\n",
    "import Task1AE as Note1AE\n",
    "import Task1FG as Note1FG\n",
    "\n",
    "# to save to csv\n",
    "import numpy as np\n",
    "import pandas as pd\n",
    "\n",
    "import torch\n",
    "import torch.nn.functional as F\n",
    "import torch.optim as optim\n",
    "\n",
    "import torchvision\n",
    "from torchvision import datasets, transforms\n",
    "from matplotlib import pyplot as plt\n",
    "\n",
    "from enum import Enum\n"
   ]
  },
  {
   "cell_type": "code",
   "execution_count": 2,
   "id": "2662c92b-b3dc-47c9-96bd-f76247c0d8e1",
   "metadata": {},
   "outputs": [],
   "source": [
    "# global variables\n",
    "class Alphabet(Enum):\n",
    "    ALPHA = 0\n",
    "    BETA= 1\n",
    "    GAMMA = 2\n",
    "\n",
    "batch_size = 32\n",
    "transform = transforms.Compose(\n",
    "            [ \n",
    "                Note1FG.NegativeMaxContrast(),\n",
    "                transforms.Grayscale(),\n",
    "                transforms.Resize(28),\n",
    "                transforms.ToTensor(),\n",
    "                # normalize with mean and std\n",
    "                transforms.Normalize((0.1307,), (0.3801,)),\n",
    "            ])"
   ]
  },
  {
   "cell_type": "code",
   "execution_count": 3,
   "id": "463c2ca1-6ba8-415e-b921-c9cb2fe07d18",
   "metadata": {},
   "outputs": [
    {
     "name": "stdout",
     "output_type": "stream",
     "text": [
      "Directory path:  images/greek\n",
      "Folder name:  ['beta', 'gamma', 'alpha']\n",
      "Directory path:  images/greek/beta\n",
      "Folder name:  []\n",
      "Directory path:  images/greek/gamma\n",
      "Folder name:  []\n",
      "Directory path:  images/greek/alpha\n",
      "Folder name:  []\n"
     ]
    }
   ],
   "source": [
    "# Check that folders are set correctly, and there are no ipynb files\n",
    "from os import walk\n",
    "for (dirpath, dirnames, filenames) in walk(\"images/greek\"):\n",
    "    print(\"Directory path: \", dirpath)\n",
    "    print(\"Folder name: \", dirnames)"
   ]
  },
  {
   "cell_type": "code",
   "execution_count": 4,
   "id": "49471571-495e-4030-8657-9947ddb6802f",
   "metadata": {},
   "outputs": [
    {
     "name": "stdout",
     "output_type": "stream",
     "text": [
      "Directory path:  images/own_greek\n",
      "Folder name:  ['beta', 'gamma', 'alpha']\n",
      "Directory path:  images/own_greek/beta\n",
      "Folder name:  []\n",
      "Directory path:  images/own_greek/gamma\n",
      "Folder name:  []\n",
      "Directory path:  images/own_greek/alpha\n",
      "Folder name:  []\n"
     ]
    }
   ],
   "source": [
    "# Check that folders are set correctly, and there are no ipynb files\n",
    "from os import walk\n",
    "for (dirpath, dirnames, filenames) in walk(\"images/own_greek\"):\n",
    "    print(\"Directory path: \", dirpath)\n",
    "    print(\"Folder name: \", dirnames)"
   ]
  },
  {
   "cell_type": "markdown",
   "id": "e3d597a3-30e8-4b45-a4f6-59ca868f06ae",
   "metadata": {},
   "source": [
    "## A. Create a greek symbol data set\n",
    "Write a program to read in the images, scale them down to 28x28, convert them to greyscale, invert the intensities\n"
   ]
  },
  {
   "cell_type": "code",
   "execution_count": 5,
   "id": "ca5af917-f3c8-4c25-bbe2-96467d63c973",
   "metadata": {},
   "outputs": [],
   "source": [
    "# create Greek dataset class\n",
    "class GreekLetterDataset:\n",
    "    def __init__(self, data_csv, target_csv, transform=None):\n",
    "\n",
    "        # get numpy array from csv\n",
    "        data = pd.read_csv(data_csv).to_numpy()\n",
    "        targets = pd.read_csv(target_csv).to_numpy().flatten(order=\"F\")\n",
    "        \n",
    "        self.data = torch.from_numpy(data)\n",
    "        self.targets = torch.from_numpy(targets)\n",
    "        self.transform = transform\n",
    "        self.n_samples = data.shape[0]\n",
    "        \n",
    "    def __len__(self):\n",
    "        return self.n_samples\n",
    "    \n",
    "    # to support the indexing such that dataset[i]\n",
    "    # can be used to get ith sample.\n",
    "    def __getitem__(self, idx):\n",
    "        return self.data[idx], self.targets[idx]"
   ]
  },
  {
   "cell_type": "code",
   "execution_count": 6,
   "id": "edd077b5-ebd7-413f-9795-ba80ad3be72e",
   "metadata": {},
   "outputs": [],
   "source": [
    "def move_filenames_to_category_folder(dataset_name):\n",
    "    \"\"\"\n",
    "    a function that creates category folders inside the dataset folder\n",
    "    based on the filename. Then move the filenames to the correct folder  \n",
    "    \"\"\"\n",
    "    # images/greek/\n",
    "    target_path = \"images/\" + dataset_name + \"/\"\n",
    "    \n",
    "    # 1. get all filenames in the folder\n",
    "    all_filenames = []\n",
    "    for (dirpath, dirnames, filenames) in walk(target_path):\n",
    "        if(dirpath == target_path):\n",
    "            # get unique filenames\n",
    "            all_filenames = filenames\n",
    "\n",
    "    # 2. grab all the letters\n",
    "    alphabet = []\n",
    "    for filename in all_filenames:\n",
    "        letter = filename.split(\"_\")[0]\n",
    "        alphabet.append(letter)\n",
    "\n",
    "    # 3. remove duplicates\n",
    "    alphabet = list(set(alphabet))\n",
    "    \n",
    "    # 4. create unique folder\n",
    "    for letter in alphabet:\n",
    "        try:\n",
    "            # create folder\n",
    "            os.mkdir(target_path + letter)\n",
    "        except OSError as error: \n",
    "            print(error)  \n",
    "        \n",
    "    # 5. loop through each files again\n",
    "    for filename in os.listdir(target_path):\n",
    "        letter_bit = filename.split(\"_\")[0]\n",
    "        \n",
    "        if (letter_bit in alphabet and len(filename.split(\"_\")) > 1):\n",
    "            old_path = target_path + filename\n",
    "            new_path = target_path + letter_bit + \"/\" + filename \n",
    "            # move this file to the correct category folder\n",
    "            shutil.move(old_path, new_path)\n",
    "\n",
    "            \n",
    "def check_valid(path):\n",
    "    path = Path(path)\n",
    "    return not path.stem.startswith('.')\n",
    "\n",
    "\n",
    "def upload_to_ImageFolder(dataset_name, batch_size, transform, check_valid):\n",
    "    \"\"\" A function that takes in a dataset name from local \"images/\"\n",
    "        directory and batch size then: \n",
    "        - performs transformation to the dataset\n",
    "        - upload the images to PyTorch's ImageFolder\n",
    "        - returns a dataLoader object \n",
    "    \"\"\"\n",
    "\n",
    "    # - create the dataset from our images folder to datasets\n",
    "    dataset = datasets.ImageFolder(\"images/\" + dataset_name,\n",
    "                                   transform=transform,\n",
    "                                   is_valid_file=check_valid)\n",
    "\n",
    "    # - get dataloader for our images\n",
    "    dataloader = torch.utils.data.DataLoader(dataset, batch_size=30)\n",
    "    return dataloader"
   ]
  },
  {
   "cell_type": "code",
   "execution_count": 7,
   "id": "e5ce39c2-34f2-468a-969e-60ea81d60f4e",
   "metadata": {
    "scrolled": true,
    "tags": []
   },
   "outputs": [],
   "source": [
    "def save_data_as_csv(dataloader, dataset_name, is_overwrite):\n",
    "    \n",
    "    \"\"\"\n",
    "    A function that:\n",
    "    - extract the data and target from dataloader\n",
    "    - save them both as two separate csv files. \n",
    "    - if is_overwrite is false, it will not write anything if data already exists\n",
    "    \"\"\"\n",
    "    \n",
    "    data_filename = dataset_name + '.csv'\n",
    "    target_filename = dataset_name + '_target.csv'\n",
    "    \n",
    "    if(is_overwrite):\n",
    "        is_write = True\n",
    "    else:\n",
    "        # not overwrite means if file already exists dont write\n",
    "        is_write = not(os.path.exists(data_filename))\n",
    "    \n",
    "\n",
    "    if(is_write):\n",
    "        # 1. load the data\n",
    "        data, target = next(iter(dataloader))\n",
    "        csv_np = np.array([])\n",
    "\n",
    "\n",
    "        # 2. create empty csv file with the headers\n",
    "        header_list = list(map(str, range(0, 784)))\n",
    "        header_str = ','.join(header_list)\n",
    "        with open(data_filename, 'w') as csvfile:\n",
    "            np.savetxt(csvfile, [], header=header_str,\n",
    "                    delimiter=',', fmt='%s', comments='')\n",
    "\n",
    "        with open(target_filename, 'w') as csvtargetfile:\n",
    "            np.savetxt(csvtargetfile, [], header=\"category\",\n",
    "                    delimiter=',', fmt='%s', comments='')\n",
    "\n",
    "        # 3. loop through each image and append to csv\n",
    "        print(len(data))\n",
    "        for i in range(len(data)):\n",
    "            print(\"\\nindex:>>>>\", i)\n",
    "            # - display the image info\n",
    "            img_mat = data[i][0]\n",
    "            ground_truth = target[i].numpy()\n",
    "            print(\"ground truth:\", Alphabet(ground_truth))\n",
    "            plt.imshow(img_mat, cmap=\"gray\", interpolation=\"none\")\n",
    "            plt.show()\n",
    "\n",
    "            # - create a new csv row\n",
    "            csv_row_np = np.array([])\n",
    "\n",
    "            # - for each row in a single image\n",
    "            for img_row in img_mat:\n",
    "\n",
    "                # - append it as a single row\n",
    "                img_row_np = img_row.numpy()\n",
    "                csv_row_np = np.append(csv_row_np, [img_row_np])\n",
    "\n",
    "            # - append this image row and target in csv file\n",
    "            with open(data_filename, 'a') as csvfile:\n",
    "                np.savetxt(csvfile, [csv_row_np], delimiter=',', fmt='%s', comments='')\n",
    "\n",
    "            with open(target_filename, 'a') as csvtargetfile:\n",
    "                np.savetxt(csvtargetfile, [ground_truth],\n",
    "                        delimiter=',', fmt='%s', comments='')\n",
    "\n"
   ]
  },
  {
   "cell_type": "code",
   "execution_count": 8,
   "id": "c3559ef5-efb7-4276-a9fa-c9379cf0e237",
   "metadata": {},
   "outputs": [],
   "source": [
    "def get_greek_dataloader_from_csv(data_csv, target_csv):\n",
    "    \"\"\"\n",
    "    A function that:\n",
    "    - extract dataset from csv file\n",
    "    - create a dataloader of the dataset and return it\n",
    "    \"\"\"\n",
    "    # 1. create dataset from csv file\n",
    "    greek_dataset = GreekLetterDataset(data_csv, target_csv)\n",
    "\n",
    "    # # 2. get data from dataset\n",
    "    csv_dataloader = torch.utils.data.DataLoader(greek_dataset,\n",
    "                                                 batch_size=30)\n",
    "    \n",
    "    return csv_dataloader\n",
    "    "
   ]
  },
  {
   "cell_type": "code",
   "execution_count": 9,
   "id": "426f9048-6355-4109-92f4-39db95540b79",
   "metadata": {},
   "outputs": [],
   "source": [
    "def create_Dataset_CSV(dataset_name):\n",
    "    \"\"\"\n",
    "    A wrapper function that:\n",
    "    - creates Dataset from images folder\n",
    "    - save it to ImageFolder and save it as csv file\n",
    "    - reload it from csv file and return the dataloader\n",
    "    \"\"\"\n",
    "    # 1. move files to folder based on category\n",
    "    move_filenames_to_category_folder(dataset_name)\n",
    "\n",
    "    # 2. upload files to Pytorch ImageFolder\n",
    "    own_dataloader = upload_to_ImageFolder(dataset_name, batch_size, transform, check_valid)\n",
    "\n",
    "    # 3. save the data as csv\n",
    "    save_data_as_csv(own_dataloader, dataset_name, is_overwrite=True)\n",
    "\n",
    "    # 4. reload data from csv \n",
    "    csv_dataloader = get_greek_dataloader_from_csv( dataset_name+ \".csv\",\n",
    "                                       dataset_name + \"_target.csv\")\n",
    "    return csv_dataloader"
   ]
  },
  {
   "cell_type": "code",
   "execution_count": 10,
   "id": "c9d2124b-e414-457f-87b7-6972dd60c11b",
   "metadata": {
    "scrolled": true,
    "tags": []
   },
   "outputs": [
    {
     "name": "stdout",
     "output_type": "stream",
     "text": [
      "27\n",
      "\n",
      "index:>>>> 0\n",
      "ground truth: Alphabet.ALPHA\n"
     ]
    },
    {
     "data": {
      "image/png": "[encoded data removed]",
      "text/plain": [
       "<Figure size 432x288 with 1 Axes>"
      ]
     },
     "metadata": {
      "needs_background": "light"
     },
     "output_type": "display_data"
    },
    {
     "name": "stdout",
     "output_type": "stream",
     "text": [
      "\n",
      "index:>>>> 1\n",
      "ground truth: Alphabet.ALPHA\n"
     ]
    },
    {
     "data": {
      "image/png": "[encoded data removed]",
      "text/plain": [
       "<Figure size 432x288 with 1 Axes>"
      ]
     },
     "metadata": {
      "needs_background": "light"
     },
     "output_type": "display_data"
    },
    {
     "name": "stdout",
     "output_type": "stream",
     "text": [
      "\n",
      "index:>>>> 2\n",
      "ground truth: Alphabet.ALPHA\n"
     ]
    },
    {
     "data": {
      "image/png": "[encoded data removed]",
      "text/plain": [
       "<Figure size 432x288 with 1 Axes>"
      ]
     },
     "metadata": {
      "needs_background": "light"
     },
     "output_type": "display_data"
    },
    {
     "name": "stdout",
     "output_type": "stream",
     "text": [
      "\n",
      "index:>>>> 3\n",
      "ground truth: Alphabet.ALPHA\n"
     ]
    },
    {
     "data": {
      "image/png": "[encoded data removed]",
      "text/plain": [
       "<Figure size 432x288 with 1 Axes>"
      ]
     },
     "metadata": {
      "needs_background": "light"
     },
     "output_type": "display_data"
    },
    {
     "name": "stdout",
     "output_type": "stream",
     "text": [
      "\n",
      "index:>>>> 4\n",
      "ground truth: Alphabet.ALPHA\n"
     ]
    },
    {
     "data": {
      "image/png": "[encoded data removed]",
      "text/plain": [
       "<Figure size 432x288 with 1 Axes>"
      ]
     },
     "metadata": {
      "needs_background": "light"
     },
     "output_type": "display_data"
    },
    {
     "name": "stdout",
     "output_type": "stream",
     "text": [
      "\n",
      "index:>>>> 5\n",
      "ground truth: Alphabet.ALPHA\n"
     ]
    },
    {
     "data": {
      "image/png": "[encoded data removed]",
      "text/plain": [
       "<Figure size 432x288 with 1 Axes>"
      ]
     },
     "metadata": {
      "needs_background": "light"
     },
     "output_type": "display_data"
    },
    {
     "name": "stdout",
     "output_type": "stream",
     "text": [
      "\n",
      "index:>>>> 6\n",
      "ground truth: Alphabet.ALPHA\n"
     ]
    },
    {
     "data": {
      "image/png": "[encoded data removed]",
      "text/plain": [
       "<Figure size 432x288 with 1 Axes>"
      ]
     },
     "metadata": {
      "needs_background": "light"
     },
     "output_type": "display_data"
    },
    {
     "name": "stdout",
     "output_type": "stream",
     "text": [
      "\n",
      "index:>>>> 7\n",
      "ground truth: Alphabet.ALPHA\n"
     ]
    },
    {
     "data": {
      "image/png": "[encoded data removed]",
      "text/plain": [
       "<Figure size 432x288 with 1 Axes>"
      ]
     },
     "metadata": {
      "needs_background": "light"
     },
     "output_type": "display_data"
    },
    {
     "name": "stdout",
     "output_type": "stream",
     "text": [
      "\n",
      "index:>>>> 8\n",
      "ground truth: Alphabet.ALPHA\n"
     ]
    },
    {
     "data": {
      "image/png": "[encoded data removed]",
      "text/plain": [
       "<Figure size 432x288 with 1 Axes>"
      ]
     },
     "metadata": {
      "needs_background": "light"
     },
     "output_type": "display_data"
    },
    {
     "name": "stdout",
     "output_type": "stream",
     "text": [
      "\n",
      "index:>>>> 9\n",
      "ground truth: Alphabet.BETA\n"
     ]
    },
    {
     "data": {
      "image/png": "[encoded data removed]",
      "text/plain": [
       "<Figure size 432x288 with 1 Axes>"
      ]
     },
     "metadata": {
      "needs_background": "light"
     },
     "output_type": "display_data"
    },
    {
     "name": "stdout",
     "output_type": "stream",
     "text": [
      "\n",
      "index:>>>> 10\n",
      "ground truth: Alphabet.BETA\n"
     ]
    },
    {
     "data": {
      "image/png": "[encoded data removed]",
      "text/plain": [
       "<Figure size 432x288 with 1 Axes>"
      ]
     },
     "metadata": {
      "needs_background": "light"
     },
     "output_type": "display_data"
    },
    {
     "name": "stdout",
     "output_type": "stream",
     "text": [
      "\n",
      "index:>>>> 11\n",
      "ground truth: Alphabet.BETA\n"
     ]
    },
    {
     "data": {
      "image/png": "[encoded data removed]",
      "text/plain": [
       "<Figure size 432x288 with 1 Axes>"
      ]
     },
     "metadata": {
      "needs_background": "light"
     },
     "output_type": "display_data"
    },
    {
     "name": "stdout",
     "output_type": "stream",
     "text": [
      "\n",
      "index:>>>> 12\n",
      "ground truth: Alphabet.BETA\n"
     ]
    },
    {
     "data": {
      "image/png": "[encoded data removed]",
      "text/plain": [
       "<Figure size 432x288 with 1 Axes>"
      ]
     },
     "metadata": {
      "needs_background": "light"
     },
     "output_type": "display_data"
    },
    {
     "name": "stdout",
     "output_type": "stream",
     "text": [
      "\n",
      "index:>>>> 13\n",
      "ground truth: Alphabet.BETA\n"
     ]
    },
    {
     "data": {
      "image/png": "[encoded data removed]",
      "text/plain": [
       "<Figure size 432x288 with 1 Axes>"
      ]
     },
     "metadata": {
      "needs_background": "light"
     },
     "output_type": "display_data"
    },
    {
     "name": "stdout",
     "output_type": "stream",
     "text": [
      "\n",
      "index:>>>> 14\n",
      "ground truth: Alphabet.BETA\n"
     ]
    },
    {
     "data": {
      "image/png": "[encoded data removed]",
      "text/plain": [
       "<Figure size 432x288 with 1 Axes>"
      ]
     },
     "metadata": {
      "needs_background": "light"
     },
     "output_type": "display_data"
    },
    {
     "name": "stdout",
     "output_type": "stream",
     "text": [
      "\n",
      "index:>>>> 15\n",
      "ground truth: Alphabet.BETA\n"
     ]
    },
    {
     "data": {
      "image/png": "[encoded data removed]",
      "text/plain": [
       "<Figure size 432x288 with 1 Axes>"
      ]
     },
     "metadata": {
      "needs_background": "light"
     },
     "output_type": "display_data"
    },
    {
     "name": "stdout",
     "output_type": "stream",
     "text": [
      "\n",
      "index:>>>> 16\n",
      "ground truth: Alphabet.BETA\n"
     ]
    },
    {
     "data": {
      "image/png": "[encoded data removed]",
      "text/plain": [
       "<Figure size 432x288 with 1 Axes>"
      ]
     },
     "metadata": {
      "needs_background": "light"
     },
     "output_type": "display_data"
    },
    {
     "name": "stdout",
     "output_type": "stream",
     "text": [
      "\n",
      "index:>>>> 17\n",
      "ground truth: Alphabet.BETA\n"
     ]
    },
    {
     "data": {
      "image/png": "[encoded data removed]",
      "text/plain": [
       "<Figure size 432x288 with 1 Axes>"
      ]
     },
     "metadata": {
      "needs_background": "light"
     },
     "output_type": "display_data"
    },
    {
     "name": "stdout",
     "output_type": "stream",
     "text": [
      "\n",
      "index:>>>> 18\n",
      "ground truth: Alphabet.GAMMA\n"
     ]
    },
    {
     "data": {
      "image/png": "[encoded data removed]",
      "text/plain": [
       "<Figure size 432x288 with 1 Axes>"
      ]
     },
     "metadata": {
      "needs_background": "light"
     },
     "output_type": "display_data"
    },
    {
     "name": "stdout",
     "output_type": "stream",
     "text": [
      "\n",
      "index:>>>> 19\n",
      "ground truth: Alphabet.GAMMA\n"
     ]
    },
    {
     "data": {
      "image/png": "[encoded data removed]",
      "text/plain": [
       "<Figure size 432x288 with 1 Axes>"
      ]
     },
     "metadata": {
      "needs_background": "light"
     },
     "output_type": "display_data"
    },
    {
     "name": "stdout",
     "output_type": "stream",
     "text": [
      "\n",
      "index:>>>> 20\n",
      "ground truth: Alphabet.GAMMA\n"
     ]
    },
    {
     "data": {
      "image/png": "[encoded data removed]",
      "text/plain": [
       "<Figure size 432x288 with 1 Axes>"
      ]
     },
     "metadata": {
      "needs_background": "light"
     },
     "output_type": "display_data"
    },
    {
     "name": "stdout",
     "output_type": "stream",
     "text": [
      "\n",
      "index:>>>> 21\n",
      "ground truth: Alphabet.GAMMA\n"
     ]
    },
    {
     "data": {
      "image/png": "[encoded data removed]",
      "text/plain": [
       "<Figure size 432x288 with 1 Axes>"
      ]
     },
     "metadata": {
      "needs_background": "light"
     },
     "output_type": "display_data"
    },
    {
     "name": "stdout",
     "output_type": "stream",
     "text": [
      "\n",
      "index:>>>> 22\n",
      "ground truth: Alphabet.GAMMA\n"
     ]
    },
    {
     "data": {
      "image/png": "[encoded data removed]",
      "text/plain": [
       "<Figure size 432x288 with 1 Axes>"
      ]
     },
     "metadata": {
      "needs_background": "light"
     },
     "output_type": "display_data"
    },
    {
     "name": "stdout",
     "output_type": "stream",
     "text": [
      "\n",
      "index:>>>> 23\n",
      "ground truth: Alphabet.GAMMA\n"
     ]
    },
    {
     "data": {
      "image/png": "[encoded data removed]",
      "text/plain": [
       "<Figure size 432x288 with 1 Axes>"
      ]
     },
     "metadata": {
      "needs_background": "light"
     },
     "output_type": "display_data"
    },
    {
     "name": "stdout",
     "output_type": "stream",
     "text": [
      "\n",
      "index:>>>> 24\n",
      "ground truth: Alphabet.GAMMA\n"
     ]
    },
    {
     "data": {
      "image/png": "[encoded data removed]",
      "text/plain": [
       "<Figure size 432x288 with 1 Axes>"
      ]
     },
     "metadata": {
      "needs_background": "light"
     },
     "output_type": "display_data"
    },
    {
     "name": "stdout",
     "output_type": "stream",
     "text": [
      "\n",
      "index:>>>> 25\n",
      "ground truth: Alphabet.GAMMA\n"
     ]
    },
    {
     "data": {
      "image/png": "[encoded data removed]",
      "text/plain": [
       "<Figure size 432x288 with 1 Axes>"
      ]
     },
     "metadata": {
      "needs_background": "light"
     },
     "output_type": "display_data"
    },
    {
     "name": "stdout",
     "output_type": "stream",
     "text": [
      "\n",
      "index:>>>> 26\n",
      "ground truth: Alphabet.GAMMA\n"
     ]
    },
    {
     "data": {
      "image/png": "[encoded data removed]",
      "text/plain": [
       "<Figure size 432x288 with 1 Axes>"
      ]
     },
     "metadata": {
      "needs_background": "light"
     },
     "output_type": "display_data"
    }
   ],
   "source": [
    "dataset_name = \"greek\"\n",
    "dataloader = create_Dataset_CSV(dataset_name)"
   ]
  },
  {
   "cell_type": "markdown",
   "id": "8b48d1e3-17d1-4829-8d36-3814b54ffcac",
   "metadata": {},
   "source": [
    "## B. Create Truncated Model"
   ]
  },
  {
   "cell_type": "markdown",
   "id": "e306ed83-0bee-467a-90e1-d7bc01a442a8",
   "metadata": {},
   "source": [
    "Read in the trained model and build a new model from the old network that terminates at the Dense layer with 50 outputs. Show that if you apply the network to the first training input image that it gives 50 numbers as its output."
   ]
  },
  {
   "cell_type": "code",
   "execution_count": 11,
   "id": "1a9d01f1-d367-4b82-97cc-e937d0463734",
   "metadata": {},
   "outputs": [],
   "source": [
    "# 1. Create a Submodel object \n",
    "class SubmodelDense1(Note1AE.NeuralNetwork):\n",
    "\n",
    "    def __init__(self, *args, **kwargs):\n",
    "        super().__init__(*args, **kwargs)\n",
    "\n",
    "    def forward( self, x ):\n",
    "        # 1. first conv, max pool, relu\n",
    "        x = F.relu(F.max_pool2d(self.conv1(x), 2))\n",
    "        \n",
    "        # 2. 2nd conv, droptout layer, max pool, relu\n",
    "        x = F.relu(F.max_pool2d(self.conv2_drop(self.conv2(x)), 2))\n",
    "        \n",
    "        # 3. reshape tensor.\n",
    "        x = x.view(-1, 320)\n",
    "        \n",
    "        # 4. fully connected, relu\n",
    "        x = F.relu(self.fc1(x))\n",
    "\n",
    "        return x"
   ]
  },
  {
   "cell_type": "code",
   "execution_count": 12,
   "id": "9d1a0b26-be72-4e28-8056-f5c7c5a23ed6",
   "metadata": {},
   "outputs": [],
   "source": [
    "def create_truncated_model_and_run_one_image(dataloader):\n",
    "    \"\"\"\n",
    "    Create truncated model and run it on first image from the dataloader\n",
    "    \"\"\"\n",
    "    \n",
    "    # 1. init network\n",
    "    subnetwork = SubmodelDense1()\n",
    "    subnetwork.double()\n",
    "    Note1FG.load_network_state(subnetwork)\n",
    "    \n",
    "    # 2. grab a single image\n",
    "    img = Note1FG.load_firstN_data(dataloader, 1)[0]\n",
    "    \n",
    "    # 3. run\n",
    "    reshaped_data = torch.reshape(img, (1, 1, 28, 28))\n",
    "    outputSub = Note1FG.run_network(subnetwork, reshaped_data)\n",
    "    print(outputSub.shape)\n",
    "    \n",
    "    return subnetwork"
   ]
  },
  {
   "cell_type": "code",
   "execution_count": 13,
   "id": "ec4b188e-b7bc-4b8f-b022-6d632ed306ba",
   "metadata": {},
   "outputs": [
    {
     "name": "stdout",
     "output_type": "stream",
     "text": [
      "torch.Size([1, 50])\n"
     ]
    }
   ],
   "source": [
    "subnetwork = create_truncated_model_and_run_one_image(dataloader)"
   ]
  },
  {
   "cell_type": "markdown",
   "id": "53fdb7a8-267d-467f-9f69-edfe48eb83f3",
   "metadata": {},
   "source": [
    "## C. Project the greek symbols into the embedding space "
   ]
  },
  {
   "cell_type": "markdown",
   "id": "31da5658-db38-49d3-8a6e-e6a6e03fb6fb",
   "metadata": {},
   "source": [
    "Apply the truncated network to the greek symbols (read from the CSV file) to get a set of 27 50 element vectors."
   ]
  },
  {
   "cell_type": "code",
   "execution_count": 14,
   "id": "67de3a6a-4730-4bdf-8354-e0caf44d15b5",
   "metadata": {},
   "outputs": [
    {
     "name": "stdout",
     "output_type": "stream",
     "text": [
      "torch.Size([27, 50])\n",
      "tensor([0.0000, 0.0000, 2.2976, 0.0000, 0.0000, 0.4250, 1.4210, 0.0264, 0.0000,\n",
      "        1.4767, 0.0000, 0.0000, 0.0000, 0.0000, 0.0000, 0.8383, 0.0000, 2.5231,\n",
      "        0.0000, 0.0000, 0.0000, 0.0000, 0.0000, 0.7966, 0.8418, 0.0000, 0.0000,\n",
      "        0.0000, 0.0000, 0.2869, 2.0713, 0.0000, 0.6339, 0.0000, 0.6825, 0.4438,\n",
      "        4.9952, 5.4029, 0.0000, 0.0000, 0.0000, 0.0000, 0.4549, 1.7567, 4.9659,\n",
      "        0.0000, 0.0000, 1.3716, 0.4214, 0.0000], dtype=torch.float64)\n"
     ]
    }
   ],
   "source": [
    "\n",
    "csv_dataloader = get_greek_dataloader_from_csv(\"greek.csv\",\n",
    "                                       \"greek_target.csv\")\n",
    "\n",
    "# run the subnetwork through the data from csv file\n",
    "with torch.no_grad():\n",
    "    data_from_csv, target = next(iter(csv_dataloader))\n",
    "    # subnetwork.double() \n",
    "    subnetwork.eval()\n",
    "    reshaped_data = torch.reshape(data_from_csv, (27, 1, 28, 28))\n",
    "    output = subnetwork(reshaped_data)\n",
    "    \n",
    "print(output.shape)\n",
    "print(output[0])"
   ]
  },
  {
   "cell_type": "markdown",
   "id": "97a762d9-7c89-4e60-b911-652f3413d93d",
   "metadata": {},
   "source": [
    "## D. Compute distances in the embedding space (1 for each letter)\n",
    "\n",
    "Select one example from each set of nine (i.e. one alpha, one beta, and one gamma). Compute the sum-squared distance in the 50 dimensional embedding space between each example and all 27 examples. Note that the SSD with itself should be 0. For each example show all 27 SSD values. What pattern do you find? How well would a nearest neighbor or K-NN classifier in the embedding space do for this task?\n",
    "\n",
    "\n",
    ">> alpha is more similar to gamma than it is to beta\n"
   ]
  },
  {
   "cell_type": "code",
   "execution_count": 15,
   "id": "a168c56b-2974-41e0-a278-3bd53f2969f6",
   "metadata": {},
   "outputs": [],
   "source": [
    "def compute_ssd(vec1, vec2):\n",
    "    \"\"\"\n",
    "        A function that computes SSD between two vectors of PyTorch tensor object\n",
    "    \"\"\"\n",
    "    error = 0;\n",
    "    for i in range(len(vec1)):\n",
    "        val1 = vec1[i].item()\n",
    "        val2 = vec2[i].item()\n",
    "        error += (val1 - val2) * (val1 - val2)\n",
    "    return error\n",
    "\n",
    "\n",
    "def compute_ssd_all_data(sample_alphabet, data, letter_name):\n",
    "    \"\"\"\n",
    "        A function that computes SSD between \n",
    "        the vector of a sample alphabet to all of the other vector in a data\n",
    "    \"\"\"\n",
    "    print(\"\\n>>>>>>>>> SSD for \" +  letter_name +\" sample:\")\n",
    "    i = 0;\n",
    "    for other_letter in data:\n",
    "        ssd = compute_ssd(sample_alphabet, other_letter)\n",
    "        if(i == 0):\n",
    "            print(\"> alpha:\")\n",
    "        elif(i == 9):\n",
    "            print(\"> beta:\")\n",
    "        elif(i == 18):\n",
    "            print(\"> gamma:\")\n",
    "        print(ssd)\n",
    "        i+=1"
   ]
  },
  {
   "cell_type": "code",
   "execution_count": 16,
   "id": "66c21dba-e7ad-43bb-9b70-abf9433fd313",
   "metadata": {
    "scrolled": true,
    "tags": []
   },
   "outputs": [
    {
     "name": "stdout",
     "output_type": "stream",
     "text": [
      "\n",
      ">>>>>>>>> SSD for alpha sample:\n",
      "> alpha:\n",
      "0.0\n",
      "160.05605642985148\n",
      "176.29142202954358\n",
      "277.27004974888655\n",
      "323.740383600096\n",
      "259.3263523183716\n",
      "277.86837508940687\n",
      "216.30908231610888\n",
      "270.78448540516166\n",
      "> beta:\n",
      "515.7610290639753\n",
      "413.8916740843341\n",
      "358.12084287286854\n",
      "354.47436736625144\n",
      "350.8493967570892\n",
      "330.8485498268286\n",
      "313.68370865055044\n",
      "326.81238008598046\n",
      "340.0809204230809\n",
      "> gamma:\n",
      "410.7828529939418\n",
      "348.57286229347807\n",
      "343.54409830367916\n",
      "322.94002833513997\n",
      "356.09179656290024\n",
      "369.0685708743179\n",
      "318.83595018158593\n",
      "344.53179688516855\n",
      "314.87077801806146\n",
      "\n",
      ">>>>>>>>> SSD for beta sample:\n",
      "> alpha:\n",
      "515.7610290639753\n",
      "519.2674175345408\n",
      "465.15350771834636\n",
      "554.0221363231957\n",
      "512.610261327147\n",
      "461.0517702498555\n",
      "468.03177019885595\n",
      "480.1983969300541\n",
      "441.54770030339023\n",
      "> beta:\n",
      "0.0\n",
      "347.41761391395517\n",
      "419.06701180721194\n",
      "333.91201911975867\n",
      "335.67740905027455\n",
      "423.9563350496558\n",
      "360.7379974786264\n",
      "353.0503465467473\n",
      "304.2150263646002\n",
      "> gamma:\n",
      "539.7316212415467\n",
      "496.73574442718376\n",
      "471.933818075424\n",
      "438.68689025464954\n",
      "407.6291047284564\n",
      "361.92144634217095\n",
      "418.19565441981365\n",
      "415.0660748220158\n",
      "435.65289829851264\n",
      "\n",
      ">>>>>>>>> SSD for gamma sample:\n",
      "> alpha:\n",
      "410.7828529939418\n",
      "398.5718376073077\n",
      "370.11385783430455\n",
      "364.9558674121705\n",
      "296.24476899118036\n",
      "343.87311822367406\n",
      "355.0534290109704\n",
      "303.3200450883868\n",
      "300.3163866800779\n",
      "> beta:\n",
      "539.7316212415467\n",
      "386.8254550214082\n",
      "361.48736887998524\n",
      "335.4223670538189\n",
      "355.9249977280254\n",
      "316.9322920600098\n",
      "370.9925594566201\n",
      "366.4488632050358\n",
      "436.62804564383543\n",
      "> gamma:\n",
      "0.0\n",
      "185.1397436520383\n",
      "170.81048050392798\n",
      "168.37609156079722\n",
      "200.71419514893637\n",
      "294.5071693158071\n",
      "176.7107096293332\n",
      "215.23739863516371\n",
      "205.16560389589299\n",
      "torch.Size([784])\n"
     ]
    }
   ],
   "source": [
    "# 1. get 1 sample of each letter\n",
    "sample_alpha = data_from_csv[0]\n",
    "sample_beta = data_from_csv[9]\n",
    "sample_gamma = data_from_csv[18]\n",
    "\n",
    "# 2. compute ssd of the 3 samples above to each of the 27 other samples\n",
    "compute_ssd_all_data(sample_alpha, data_from_csv, \"alpha\")\n",
    "compute_ssd_all_data(sample_beta, data_from_csv, \"beta\")\n",
    "compute_ssd_all_data(sample_gamma, data_from_csv, \"gamma\")\n",
    "\n",
    "print(sample_alpha.shape)"
   ]
  },
  {
   "cell_type": "markdown",
   "id": "5623b952-a594-4113-87e0-9d809647c731",
   "metadata": {},
   "source": [
    "## E. Create your own greek symbol data\n",
    "\n",
    "Take a picture of a couple of examples of your own alpha, beta, and gamma symbols. Crop and rescale them as appropriate and see if they match their corresponding symbol examples in the embedding space.\n",
    "\n",
    "    "
   ]
  },
  {
   "cell_type": "code",
   "execution_count": 17,
   "id": "35a516aa-9294-4e74-93f0-209f7cc59733",
   "metadata": {
    "scrolled": true,
    "tags": []
   },
   "outputs": [
    {
     "name": "stdout",
     "output_type": "stream",
     "text": [
      "4\n",
      "\n",
      "index:>>>> 0\n",
      "ground truth: Alphabet.ALPHA\n"
     ]
    },
    {
     "data": {
      "image/png": "[encoded data removed]",
      "text/plain": [
       "<Figure size 432x288 with 1 Axes>"
      ]
     },
     "metadata": {
      "needs_background": "light"
     },
     "output_type": "display_data"
    },
    {
     "name": "stdout",
     "output_type": "stream",
     "text": [
      "\n",
      "index:>>>> 1\n",
      "ground truth: Alphabet.BETA\n"
     ]
    },
    {
     "data": {
      "image/png": "[encoded data removed]",
      "text/plain": [
       "<Figure size 432x288 with 1 Axes>"
      ]
     },
     "metadata": {
      "needs_background": "light"
     },
     "output_type": "display_data"
    },
    {
     "name": "stdout",
     "output_type": "stream",
     "text": [
      "\n",
      "index:>>>> 2\n",
      "ground truth: Alphabet.GAMMA\n"
     ]
    },
    {
     "data": {
      "image/png": "[encoded data removed]",
      "text/plain": [
       "<Figure size 432x288 with 1 Axes>"
      ]
     },
     "metadata": {
      "needs_background": "light"
     },
     "output_type": "display_data"
    },
    {
     "name": "stdout",
     "output_type": "stream",
     "text": [
      "\n",
      "index:>>>> 3\n",
      "ground truth: Alphabet.GAMMA\n"
     ]
    },
    {
     "data": {
      "image/png": "[encoded data removed]",
      "text/plain": [
       "<Figure size 432x288 with 1 Axes>"
      ]
     },
     "metadata": {
      "needs_background": "light"
     },
     "output_type": "display_data"
    }
   ],
   "source": [
    "# - create the Dataset from our images folder \n",
    "dataset_name = \"own_greek\"\n",
    "own_csv_dataloader = create_Dataset_CSV(dataset_name)\n",
    "own_data_from_csv, own_target = next(iter(own_csv_dataloader))"
   ]
  },
  {
   "cell_type": "code",
   "execution_count": 18,
   "id": "6b6888bd-825f-46fc-8466-f5ebefffc79f",
   "metadata": {
    "scrolled": true,
    "tags": []
   },
   "outputs": [
    {
     "name": "stdout",
     "output_type": "stream",
     "text": [
      "\n",
      ">>>>>>>>> SSD for alpha sample:\n",
      "> alpha:\n",
      "488.6144387071153\n",
      "452.5317175480224\n",
      "419.9771092829113\n",
      "503.5115812827304\n",
      "474.5567142927742\n",
      "430.5076766375094\n",
      "453.40860701529584\n",
      "517.0293086067668\n",
      "437.6137104071084\n",
      "> beta:\n",
      "656.4267952289159\n",
      "543.3541413728237\n",
      "487.1615756227581\n",
      "525.8326025680861\n",
      "440.961821859994\n",
      "474.4093955192957\n",
      "519.4299562295071\n",
      "501.54597464801617\n",
      "555.1180846449887\n",
      "> gamma:\n",
      "644.1159391797758\n",
      "553.3719655881915\n",
      "573.6883137662417\n",
      "556.8853838825553\n",
      "586.0812429214294\n",
      "550.8830731472152\n",
      "549.0186963268237\n",
      "563.8124832655395\n",
      "523.0090492147053\n",
      "\n",
      ">>>>>>>>> SSD for beta sample:\n",
      "> alpha:\n",
      "387.6807342046811\n",
      "373.07492904744515\n",
      "354.0737063116361\n",
      "350.3320668938716\n",
      "331.02491967498884\n",
      "341.31950477925307\n",
      "387.897349361453\n",
      "291.7616339514955\n",
      "267.1405571380961\n",
      "> beta:\n",
      "601.9989751560561\n",
      "371.9329899720699\n",
      "286.28293018176726\n",
      "329.58195592257687\n",
      "406.9875618303201\n",
      "266.21459705084106\n",
      "352.3574990333725\n",
      "386.75743334032825\n",
      "417.76050889386283\n",
      "> gamma:\n",
      "401.8799197742636\n",
      "345.21889066607116\n",
      "365.3419338869198\n",
      "321.71516298452855\n",
      "306.192337996892\n",
      "309.885648851966\n",
      "328.65982616690314\n",
      "337.8252440491101\n",
      "323.77092931187843\n",
      "\n",
      ">>>>>>>>> SSD for gamma sample:\n",
      "> alpha:\n",
      "509.51133647109464\n",
      "517.588249399745\n",
      "475.01655820574206\n",
      "457.8986571432418\n",
      "361.7082326677589\n",
      "440.26216130182814\n",
      "486.82957482486074\n",
      "425.8406141638924\n",
      "381.9794498914619\n",
      "> beta:\n",
      "589.2905457463646\n",
      "471.44150720618876\n",
      "449.33848784871594\n",
      "419.5543078354076\n",
      "433.70815291095596\n",
      "412.1930230606187\n",
      "440.7806568894031\n",
      "494.1041091389151\n",
      "504.76326683352823\n",
      "> gamma:\n",
      "349.38758540689844\n",
      "274.03040087756324\n",
      "381.8693844632094\n",
      "225.71740357711604\n",
      "282.28912314655764\n",
      "348.63257123132166\n",
      "279.9456371226126\n",
      "287.43348877849775\n",
      "275.47229846563556\n",
      "\n",
      ">>>>>>>>> SSD for gamma_a sample:\n",
      "> alpha:\n",
      "425.4999909052781\n",
      "432.1867371595571\n",
      "409.69072491387436\n",
      "459.4330593162365\n",
      "358.9188492104859\n",
      "385.94568390982795\n",
      "379.5057830233072\n",
      "360.8290029442651\n",
      "304.7405396128436\n",
      "> beta:\n",
      "559.7371445091367\n",
      "391.67815622589825\n",
      "372.31459613831004\n",
      "347.12137813442774\n",
      "349.671473939143\n",
      "328.72816707443536\n",
      "351.628459292677\n",
      "369.6933960261664\n",
      "403.86362423517465\n",
      "> gamma:\n",
      "372.98030123201886\n",
      "297.5243352639244\n",
      "327.7943236487566\n",
      "237.3636216836711\n",
      "307.73866124799235\n",
      "212.94000025159792\n",
      "216.9630721283969\n",
      "242.2597575151577\n",
      "225.76146945496427\n",
      "torch.Size([784])\n"
     ]
    }
   ],
   "source": [
    "# 1. get 1 sample of each letter\n",
    "sample_alpha = own_data_from_csv[0]\n",
    "sample_beta = own_data_from_csv[1]\n",
    "sample_gamma = own_data_from_csv[2]\n",
    "sample_gamma_a = own_data_from_csv[3]\n",
    "\n",
    "# 2. compute ssd of the 3 samples above to each of the 27 other samples\n",
    "compute_ssd_all_data(sample_alpha, data_from_csv, \"alpha\")\n",
    "compute_ssd_all_data(sample_beta, data_from_csv, \"beta\")\n",
    "compute_ssd_all_data(sample_gamma, data_from_csv, \"gamma\")\n",
    "compute_ssd_all_data(sample_gamma_a, data_from_csv, \"gamma_a\")\n",
    "\n",
    "print(sample_alpha.shape)"
   ]
  }
 ],
 "metadata": {
  "kernelspec": {
   "display_name": "Python 3 (ipykernel)",
   "language": "python",
   "name": "python3"
  },
  "language_info": {
   "codemirror_mode": {
    "name": "ipython",
    "version": 3
   },
   "file_extension": ".py",
   "mimetype": "text/x-python",
   "name": "python",
   "nbconvert_exporter": "python",
   "pygments_lexer": "ipython3",
   "version": "3.9.7"
  }
 },
 "nbformat": 4,
 "nbformat_minor": 5
}
