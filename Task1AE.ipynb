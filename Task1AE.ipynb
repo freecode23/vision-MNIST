{
 "cells": [
  {
   "cell_type": "code",
   "execution_count": 10,
   "id": "9f0dd1b7-47ac-4bab-b157-763c4a735b56",
   "metadata": {},
   "outputs": [],
   "source": [
    "import sys\n",
    "\n",
    "import torch\n",
    "import torch.nn as nn\n",
    "import torch.nn.functional as F\n",
    "import torch.optim as optim\n",
    "from torch.utils.data import DataLoader\n",
    "\n",
    "import torchvision\n",
    "from torchvision import datasets, transforms\n",
    "from matplotlib import pyplot as plt\n",
    "\n"
   ]
  },
  {
   "cell_type": "markdown",
   "id": "cce991c6-6ad0-47f0-93b4-49b5d551994c",
   "metadata": {},
   "source": [
    "# Task 1. Build and train a network to recognize digits\n"
   ]
  },
  {
   "cell_type": "markdown",
   "id": "8c370574-7067-4ba9-9a65-baeca2c55704",
   "metadata": {},
   "source": [
    "\n"
   ]
  },
  {
   "cell_type": "markdown",
   "id": "d0a0306a-1983-4b45-9eca-b796f37cf50b",
   "metadata": {
    "tags": []
   },
   "source": [
    "## 1. Build a network model - C\n"
   ]
  },
  {
   "cell_type": "code",
   "execution_count": 11,
   "id": "476ec115-958e-4cd5-9176-bae61fa6be46",
   "metadata": {},
   "outputs": [],
   "source": [
    "# This is a class for network with the following layers.\n",
    "\n",
    "# CNN\n",
    "# - A convolution layer with 10 5x5 filters\n",
    "# - A max pooling layer with a 2x2 window and a ReLU function applied.\n",
    "\n",
    "# - A convolution layer with 20 5x5 filters\n",
    "# - A dropout layer with a 0.5 dropout rate (50%)\n",
    "# - A max pooling layer with a 2x2 window and a ReLU \n",
    "# function applied\n",
    "\n",
    "# RNN\n",
    "# - A flattening operation followed by a fully\n",
    "# connected Linear layer with 50 nodes and a ReLU function on the output\n",
    "# - A final fully connected Linear layer with 10\n",
    "# nodes and the log_softmax function applied to the output.\n",
    "\n",
    "class NeuralNetwork(nn.Module):\n",
    "    \n",
    "    def __init__(self):\n",
    "        # call the parent constructor\n",
    "        super(NeuralNetwork, self).__init__()\n",
    "        \n",
    "        #1. CNN\n",
    "        self.conv1 = nn.Conv2d(in_channels=1, out_channels=10, kernel_size=5) \n",
    "        \n",
    "        # final output : 20 Channels X 4 X 4\n",
    "        self.conv2 = nn.Conv2d(in_channels=10, out_channels=20, kernel_size=5)\n",
    "        self.conv2_drop = nn.Dropout2d() # default is 0.5 or half\n",
    "        \n",
    "        #2. ANN\n",
    "        self.fc1 = nn.Linear(in_features=320, out_features=50)\n",
    "        self.fc2 = nn.Linear(50, 10)\n",
    "        \n",
    "        self.flatten = nn.Flatten()\n",
    "     \n",
    "\n",
    "    def forward(self, x):\n",
    "        # 1. first conv, max pool, relu\n",
    "        x = F.relu(F.max_pool2d(self.conv1(x), 2))\n",
    "        \n",
    "        # 2. 2nd conv, droptout layer, max pool, relu\n",
    "        x = F.relu(F.max_pool2d(self.conv2_drop(self.conv2(x)), 2))\n",
    "        \n",
    "        # 3. reshape tensor . Question: why to -1, 320. this is same as flatten\n",
    "        x = x.view(-1, 320)\n",
    "        \n",
    "        # 4. fully connected, relu\n",
    "        x = F.relu(self.fc1(x))\n",
    "        # x = F.dropout(x, training=self.training)\n",
    "        x = self.fc2(x)\n",
    "        \n",
    "        # 5. convert the output from a Linear layer\n",
    "        # into a categorical probability distribution\n",
    "        return F.log_softmax(x, -1)"
   ]
  },
  {
   "cell_type": "markdown",
   "id": "69f8f1ea-6a26-41d8-9cfb-2f979a975f71",
   "metadata": {},
   "source": [
    "# TODO: Diagram of the network"
   ]
  },
  {
   "cell_type": "markdown",
   "id": "44bd974a-89ce-4e3b-b395-2e87e038500e",
   "metadata": {},
   "source": [
    "## 2. Get the MNIST digit data set -A\n",
    "The MNIST digit data consists of a training set of 60k 28x28 labeled digits and a test set of 10k 28x28 labeled digits. The data set can be imported directly from the torchvision package as torchvision.datasets.MNIST. Use the matplotlib pyplot package or OpenCV to look at the first six example digits. Look up examples that make use of the pyplot subplot method to create a grid of plots.\n",
    "\n",
    "Include a plot of the first six example digits in your report."
   ]
  },
  {
   "cell_type": "code",
   "execution_count": 12,
   "id": "1dbcef4a-052c-487f-9e97-e4a19045c74f",
   "metadata": {},
   "outputs": [],
   "source": [
    "\n",
    "# A function that takes in a boolean of whether or not it's a traning data \n",
    "# and set the batch number to 64 or 1000 for training or test respectively.\n",
    "# it then creates a transform object for MNIST dataset that will be plugged in \n",
    "# to data loader. it will also transform the data \n",
    "# then return the dataloader\n",
    "\n",
    "def get_loader(is_train):\n",
    "    if(is_train):\n",
    "        batch_num = 64\n",
    "    else:\n",
    "        batch_num = 1000\n",
    "    \n",
    "     # 1. transform the training input data to tensor and normalize it\n",
    "    transform=torchvision.transforms.Compose(\n",
    "                [torchvision.transforms.ToTensor(),\n",
    "                 torchvision.transforms.Normalize(\n",
    "                    # normalize with mean and std\n",
    "                    (0.1307,), (0.3801,)\n",
    "                )\n",
    "                ])\n",
    "    \n",
    "    \n",
    "    # 2. create a data loader\n",
    "    data_loader = torch.utils.data.DataLoader(\n",
    "        torchvision.datasets.MNIST(\n",
    "            'mnist',\n",
    "            train=is_train,\n",
    "            download=True,\n",
    "            transform=transform),\n",
    "        batch_size=batch_num,\n",
    "        shuffle=False)\n",
    "\n",
    "    # Enumerate on test loader will give me batch index \n",
    "    # the train loader itself returning the images(example_data) and the label for it (example_target)\n",
    "    return data_loader\n"
   ]
  },
  {
   "cell_type": "code",
   "execution_count": 13,
   "id": "a68280ab-d4ef-4623-b62a-eda0a7ebb673",
   "metadata": {},
   "outputs": [],
   "source": [
    "\n",
    "# A function that plot the first 6 sample images given a data loader\n",
    "def display_sample_images(data_loader) :\n",
    "    \n",
    "    # get the X and y\n",
    "    examples = enumerate(data_loader)\n",
    "    batch_idx, (sample_data, sample_targets) = next(examples)\n",
    "    \n",
    "    # plot the first 6 sample\n",
    "    fig = plt.figure()\n",
    "    for i in range(6):\n",
    "        plt.subplot(2, 3, i+1)\n",
    "        plt.tight_layout()\n",
    "        plt.imshow(sample_data[i][0], cmap=\"gray\", interpolation=\"none\")\n",
    "        plt.title(\"Ground truth: %d\" %(sample_targets[i]))\n",
    "        plt.xticks([])\n",
    "                  \n",
    "    plt.show()"
   ]
  },
  {
   "cell_type": "markdown",
   "id": "114b7eac-7ae1-4689-9ce1-0d3f2a4a0aa3",
   "metadata": {
    "tags": []
   },
   "source": [
    "## 3. Train test and save the network - D, E\n",
    "\n",
    "Train the model for five epochs, one epoch at a time, \n",
    "evaluating the model on both the training and test sets after each epoch. \n",
    "\n",
    "One Epoch is when an ENTIRE dataset is passed forward and backward through the neural network only ONCE. \n",
    "\n",
    "Since one epoch is too big to feed to the computer at once we divide it in several smaller batches.\n",
    "\n",
    "Pick a batch size of your choice. \n",
    "Make a plot"
   ]
  },
  {
   "cell_type": "code",
   "execution_count": 14,
   "id": "5cd363bc-74a4-4d59-9e1f-61977bc06cd6",
   "metadata": {},
   "outputs": [],
   "source": [
    "# A function that takes in a network, a train data loader, and the number of epoch\n",
    "# and train network per batch\n",
    "# It will then save the state of the network in results folder\n",
    "\n",
    "def train_network(network, train_loader, epoch_num):\n",
    "    # 1. train mode\n",
    "    network.train()\n",
    "    \n",
    "    # result to be plot\n",
    "    train_losses = []\n",
    "    train_counter = []\n",
    "    \n",
    "    # For each batch\n",
    "    for batch_idx, (data, target) in enumerate(train_loader):\n",
    "        # 2. Manually set the gradients to zero using optimizer.zero_grad() since PyTorch by default accumulates gradients.\n",
    "        # use gradient descent\n",
    "        learning_rate = 0.1\n",
    "        momentum = 0.5\n",
    "        optimizer = optim.SGD(network.parameters(), # learning parameters\n",
    "                              lr=learning_rate,\n",
    "                              momentum=momentum)\n",
    "\n",
    "        optimizer.zero_grad()\n",
    "        output = network(data)\n",
    "\n",
    "        # 3. compute a negative log-likelihodd (nll) loss between the output and the ground truth label\n",
    "        loss = F.nll_loss(output, target)\n",
    "        loss.backward()\n",
    "\n",
    "        # 4. The backward() call we now collect a new set of gradients\n",
    "        # which we propagate back into each of the network's parameters using optimizer.step()\n",
    "        optimizer.step()\n",
    "\n",
    "        # 5. what is log_interval?\n",
    "        print_interval = 10\n",
    "        if batch_idx % print_interval == 0:\n",
    "            # - print\n",
    "            # print('Train Epoch: {}, batch index:{} [{}/{} ({:.0f}%)]\\tLoss: {:.6f}'.format(\n",
    "            #     epoch_num,\n",
    "            #     batch_idx,\n",
    "            #     batch_idx * len(data),\n",
    "            #     len(train_loader.dataset),\n",
    "            #     100. * batch_idx / len(train_loader), loss.item()))\n",
    "            \n",
    "            # - append result per epoch to plot\n",
    "            train_losses.append(loss.item())\n",
    "            train_counter.append( # number of samples the model has seen\n",
    "                (batch_idx*64) + ((epoch_num-1) * len(train_loader.dataset))\n",
    "            )\n",
    "\n",
    "            # - save network and optimizer\n",
    "            torch.save(network.state_dict(), 'results/model.pth')\n",
    "            torch.save(optimizer.state_dict(), 'results/optimizer.pth')\n",
    "            \n",
    "    # return the error value for each batch and the number of samples\n",
    "    return train_counter, train_losses\n",
    "            "
   ]
  },
  {
   "cell_type": "code",
   "execution_count": null,
   "id": "c14c47bc-6645-472f-af50-10a7286b7f64",
   "metadata": {},
   "outputs": [],
   "source": []
  },
  {
   "cell_type": "code",
   "execution_count": 19,
   "id": "53d8c2f8-4fe4-4a63-80dc-c06a8d00e7f4",
   "metadata": {},
   "outputs": [],
   "source": [
    "\n",
    "# A function that takes in a network, a test dataloader.\n",
    "# It sets the network to evaluation mode and run the network on test data\n",
    "# it compute the loss and return it.\n",
    "# test is done per epoch\n",
    "def test_network(network, test_loader):\n",
    "    network.eval()\n",
    "    test_loss = 0\n",
    "    correct_count = 0\n",
    "\n",
    "    with torch.no_grad(): # disable gradient calculation\n",
    "\n",
    "        # 1. run on test data \n",
    "        for data, target in test_loader:\n",
    "            output = network(data)\n",
    "            # get error\n",
    "            test_loss += F.nll_loss(output, target, size_average=False).item()\n",
    "\n",
    "            # get prediction\n",
    "            pred = output.data.max(1, keepdim=True)[1]\n",
    "\n",
    "            # get number of correct prediction per 1000 \n",
    "            correct_count += pred.eq(target.data.view_as(pred)).sum()\n",
    "\n",
    "        # 2. get error\n",
    "        test_loss /= len(test_loader.dataset)\n",
    "\n",
    "        print('\\nTest set: Avg. loss: {:.4f}, Accuracy: {}/{} ({:.0f}%)\\n'.format(\n",
    "            test_loss, correct_count, len(test_loader.dataset),\n",
    "            100. * correct_count / len(test_loader.dataset)))\n",
    "\n",
    "    return test_loss"
   ]
  },
  {
   "cell_type": "code",
   "execution_count": 20,
   "id": "7a0ab3b4-d12c-4ac9-8227-d2dbb97851c2",
   "metadata": {},
   "outputs": [],
   "source": [
    "\n",
    "# Given the list of count of sample images seen in train and test data\n",
    "# and the list of loss in each batch of train and in each epoch of test\n",
    "# it will plot the graph of the number of seen data against the loss score.\n",
    "\n",
    "def plot_result(train_counter, train_losses, test_counter, test_losses):\n",
    "    plt.figure(figsize=(10,10))\n",
    "    plt.plot(train_counter, train_losses, color='blue')\n",
    "    plt.scatter(test_counter, test_losses, color='red')\n",
    "    plt.legend(['Train Loss', 'Test Loss'], loc='upper right')\n",
    "    plt.xlabel('number of training examples seen')\n",
    "    plt.ylabel('negative log likelihood loss')\n",
    "    \n",
    "    "
   ]
  },
  {
   "cell_type": "code",
   "execution_count": 21,
   "id": "8793ec31-24ae-4b67-91ec-f2dec08b8011",
   "metadata": {},
   "outputs": [],
   "source": [
    "def main(argv):\n",
    "    # set the device\n",
    "    device = \"cuda\" if torch.cuda.is_available() else \"cpu\"\n",
    "\n",
    "    # 1. make network reproducible\n",
    "    torch.manual_seed(42)\n",
    "    torch.backends.cudnn.enabled = False\n",
    "\n",
    "    # 2. load and plot data\n",
    "    train_loader = get_loader(is_train=True)\n",
    "    test_loader = get_loader(is_train=False)\n",
    "    display_sample_images(train_loader)\n",
    "    display_sample_images(test_loader)\n",
    "\n",
    "    # 3. create network model\n",
    "    network = NeuralNetwork()\n",
    "\n",
    "    # 4. train and test network model\n",
    "    epoch_num = 5\n",
    "\n",
    "    # create list to plot the number of training samples on x axis, and the scores\n",
    "    train_counter_per_epoch = []\n",
    "    train_counter = []\n",
    "    train_losses = []\n",
    "\n",
    "    test_losses = []\n",
    "    test_counter = [i * len(train_loader.dataset) for i in range(epoch_num + 1)]\n",
    "    test_losses.append(0)\n",
    "\n",
    "    for epoch in range(1, epoch_num + 1):\n",
    "        # - train and get counter and loss list\n",
    "        train_counter_per_epoch, train_loss_per_epoch = train_network(\n",
    "            network, train_loader, epoch)\n",
    "\n",
    "        train_counter.append(train_counter_per_epoch)\n",
    "        train_losses.append(train_loss_per_epoch)\n",
    "\n",
    "        # - test\n",
    "        test_losses.append(test_network(network, test_loader))\n",
    "\n",
    "\n",
    "    # 5. flatten the two arrays\n",
    "    # for all the sublist in regular list,\n",
    "    # get all the sub item in sublist\n",
    "    flat_train_counter = [single_item for sublist in train_counter\n",
    "                        for single_item in sublist]\n",
    "\n",
    "\n",
    "    flat_train_losses = [single_item for sublist in train_losses\n",
    "                        for single_item in sublist]\n",
    "    \n",
    "    # 6. plot result\n",
    "#     print(\"test counter shape:\", len(test_counter), \"value:\", test_counter)\n",
    "#     print(\"test loss shape:\", len(test_losses), \"value:\", test_losses)\n",
    "\n",
    "#     print(\"train counter shape:\", len(flat_train_counter))\n",
    "#     print(\"train loss shape:\", len(flat_train_losses))\n",
    "    plot_result(flat_train_counter, flat_train_losses, test_counter, test_losses)\n",
    "\n",
    "    \n",
    "    "
   ]
  },
  {
   "cell_type": "code",
   "execution_count": 22,
   "id": "f254b8fb-400a-4620-a892-8b864d28a9bd",
   "metadata": {
    "scrolled": true,
    "tags": []
   },
   "outputs": [
    {
     "data": {
      "image/png": "[encoded data removed]",
      "text/plain": [
       "<Figure size 432x288 with 6 Axes>"
      ]
     },
     "metadata": {
      "needs_background": "light"
     },
     "output_type": "display_data"
    },
    {
     "data": {
      "image/png": "[encoded data removed]",
      "text/plain": [
       "<Figure size 432x288 with 6 Axes>"
      ]
     },
     "metadata": {
      "needs_background": "light"
     },
     "output_type": "display_data"
    },
    {
     "name": "stderr",
     "output_type": "stream",
     "text": [
      "/var/folders/76/26vt73dx7psbzwyygdm5wtt40000gn/T/ipykernel_2686/3419677037.py:55: UserWarning: Implicit dimension choice for log_softmax has been deprecated. Change the call to include dim=X as an argument.\n",
      "  return F.log_softmax(x)\n"
     ]
    },
    {
     "name": "stdout",
     "output_type": "stream",
     "text": [
      "\n",
      "Test set: Avg. loss: 0.0899, Accuracy: 9727/10000 (97%)\n",
      "\n",
      "\n",
      "Test set: Avg. loss: 0.0679, Accuracy: 9778/10000 (98%)\n",
      "\n",
      "\n",
      "Test set: Avg. loss: 0.0566, Accuracy: 9813/10000 (98%)\n",
      "\n",
      "\n",
      "Test set: Avg. loss: 0.0461, Accuracy: 9850/10000 (98%)\n",
      "\n",
      "\n",
      "Test set: Avg. loss: 0.0414, Accuracy: 9860/10000 (99%)\n",
      "\n"
     ]
    },
    {
     "data": {
      "image/png": "[encoded data removed]",
      "text/plain": [
       "<Figure size 720x720 with 1 Axes>"
      ]
     },
     "metadata": {
      "needs_background": "light"
     },
     "output_type": "display_data"
    }
   ],
   "source": [
    "if __name__ == \"__main__\":\n",
    "    main(sys.argv)"
   ]
  },
  {
   "cell_type": "code",
   "execution_count": null,
   "id": "209622e7-ad94-4fa5-aa61-aff0e47f765c",
   "metadata": {},
   "outputs": [],
   "source": [
    "# Question. how to draw the first test loss ?"
   ]
  },
  {
   "cell_type": "code",
   "execution_count": 23,
   "id": "61e5678b-846b-4719-b46c-d6abceb9f239",
   "metadata": {},
   "outputs": [
    {
     "data": {
      "text/plain": [
       "False"
      ]
     },
     "execution_count": 23,
     "metadata": {},
     "output_type": "execute_result"
    }
   ],
   "source": [
    "torch.cuda.is_available()"
   ]
  },
  {
   "cell_type": "code",
   "execution_count": null,
   "id": "d773a2dc-b863-4c0d-a5c3-847f4ef3f8a1",
   "metadata": {},
   "outputs": [],
   "source": []
  }
 ],
 "metadata": {
  "kernelspec": {
   "display_name": "Python 3 (ipykernel)",
   "language": "python",
   "name": "python3"
  },
  "language_info": {
   "codemirror_mode": {
    "name": "ipython",
    "version": 3
   },
   "file_extension": ".py",
   "mimetype": "text/x-python",
   "name": "python",
   "nbconvert_exporter": "python",
   "pygments_lexer": "ipython3",
   "version": "3.9.7"
  }
 },
 "nbformat": 4,
 "nbformat_minor": 5
}
