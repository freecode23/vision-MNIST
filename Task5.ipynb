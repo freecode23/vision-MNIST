{
 "cells": [
  {
   "cell_type": "markdown",
   "id": "68541340-1a55-412b-93ea-98d3d3cdb5ed",
   "metadata": {},
   "source": [
    "# 5. Extension"
   ]
  },
  {
   "cell_type": "markdown",
   "id": "83a08ad4-b759-45e8-b2b7-d6e97dc026fc",
   "metadata": {},
   "source": [
    "## 1. Evaluate more dimensions on task 3"
   ]
  },
  {
   "cell_type": "code",
   "execution_count": null,
   "id": "f69c3d8c-39f6-4536-ba65-1019cc17a0c9",
   "metadata": {},
   "outputs": [],
   "source": []
  },
  {
   "cell_type": "markdown",
   "id": "d171179f-e2f9-47ae-a417-2e916368ad73",
   "metadata": {},
   "source": [
    "## 2. Build a live video digit recognition application using the trained network"
   ]
  },
  {
   "cell_type": "code",
   "execution_count": null,
   "id": "49848f72-4656-46a6-968b-679e92f70064",
   "metadata": {},
   "outputs": [],
   "source": []
  }
 ],
 "metadata": {
  "kernelspec": {
   "display_name": "Python [conda env:root] *",
   "language": "python",
   "name": "conda-root-py"
  },
  "language_info": {
   "codemirror_mode": {
    "name": "ipython",
    "version": 3
   },
   "file_extension": ".py",
   "mimetype": "text/x-python",
   "name": "python",
   "nbconvert_exporter": "python",
   "pygments_lexer": "ipython3",
   "version": "3.9.7"
  }
 },
 "nbformat": 4,
 "nbformat_minor": 5
}
