{
 "cells": [
  {
   "cell_type": "markdown",
   "id": "68541340-1a55-412b-93ea-98d3d3cdb5ed",
   "metadata": {},
   "source": [
    "# 5. Extension"
   ]
  },
  {
   "cell_type": "code",
   "execution_count": 1,
   "id": "02b948bf-0b2c-4f89-8cfc-c3ca4bfeeccd",
   "metadata": {},
   "outputs": [],
   "source": [
    "import sys\n",
    "import numpy as np\n",
    "import cv2\n",
    "import torch\n",
    "from matplotlib import pyplot as plt\n",
    "\n",
    "import torch\n",
    "import torch.nn as nn\n",
    "import torch.nn.functional as F\n",
    "import torch.optim as optim\n",
    "from torch.utils.data import DataLoader\n",
    "\n",
    "# import previous notebook\n",
    "import nbimporter\n",
    "import Task2 as Note2\n",
    "import Task1AE as Note1AE\n",
    "import Task1FG as Note1FG\n",
    "\n",
    "import math\n",
    "from typing import Any\n",
    "\n",
    "import torch\n",
    "from torch.nn import Parameter\n",
    "from torch.nn.modules import Conv2d, Module\n"
   ]
  },
  {
   "cell_type": "markdown",
   "id": "e5079f37-6ec9-4d99-bd1c-e25440932218",
   "metadata": {},
   "source": [
    "# 1. Replace the first layer of the MNIST network with a filter bank of your choosing (e.g. Gabor filters) and retrain the rest of the network, holding the first layer constant. How does it do?"
   ]
  },
  {
   "cell_type": "code",
   "execution_count": 2,
   "id": "0330bcd4-b72c-457a-929a-a5219c1c2827",
   "metadata": {},
   "outputs": [
    {
     "name": "stdout",
     "output_type": "stream",
     "text": [
      "(16, 11, 11)\n",
      "torch.Size([16, 11, 11])\n"
     ]
    }
   ],
   "source": [
    "# 1. get gabor from opencv\n",
    "filters = []\n",
    "ksize = 10\n",
    "for theta in np.arange(0, np.pi, np.pi / 16):\n",
    "    kern = cv2.getGaborKernel((ksize, ksize), 4.0, theta, 10.0, 0.5, 0, ktype=cv2.CV_32F)\n",
    "    kern /= 1.5*kern.sum()\n",
    "    filters.append(kern)\n",
    "    \n",
    "# 2. convert to np then to torch object\n",
    "gabor_arr = np.array(filters)\n",
    "print(gabor_arr.shape)\n",
    "gabor_torch = torch.from_numpy(gabor_arr)\n",
    "print(gabor_torch.shape)"
   ]
  },
  {
   "cell_type": "code",
   "execution_count": 3,
   "id": "58809d2b-8942-4022-86f9-f4c5f2edbc71",
   "metadata": {},
   "outputs": [
    {
     "data": {
      "image/png": "[encoded data removed]",
      "text/plain": [
       "<Figure size 576x576 with 16 Axes>"
      ]
     },
     "metadata": {
      "needs_background": "light"
     },
     "output_type": "display_data"
    }
   ],
   "source": [
    "# 3. plot the filter\n",
    "figure = plt.figure(figsize=(8, 8))\n",
    "for i in range(16):\n",
    "    \n",
    "    # 1. Prepare grid\n",
    "    plt.subplot(5, 5, i+1)\n",
    "    plt.tight_layout()\n",
    "\n",
    "    # 2. make sure the shape is 10X10 before doing imshow\n",
    "    # print(\"shape\", gabor_arr[i].shape)\n",
    "\n",
    "    # 3. show\n",
    "    figure.suptitle(\"gabor filters\", fontsize=16)\n",
    "    plt.imshow(gabor_arr[i],  cmap=\"gray\", interpolation=\"none\")\n",
    "    plt.xticks([])"
   ]
  },
  {
   "cell_type": "markdown",
   "id": "9e9f9aac-b781-4411-b712-33da0d5eda04",
   "metadata": {},
   "source": [
    "# 2. Evaluate more dimensions on task 3"
   ]
  },
  {
   "cell_type": "markdown",
   "id": "7e1d72e6-da4c-4303-822c-cd50682b4c66",
   "metadata": {},
   "source": [
    "# 3. Explore a different computer vision task with available data."
   ]
  },
  {
   "cell_type": "code",
   "execution_count": null,
   "id": "9813a9ed-0e20-48dc-b74c-8b5785b13912",
   "metadata": {},
   "outputs": [],
   "source": []
  }
 ],
 "metadata": {
  "kernelspec": {
   "display_name": "Python [conda env:root] *",
   "language": "python",
   "name": "conda-root-py"
  },
  "language_info": {
   "codemirror_mode": {
    "name": "ipython",
    "version": 3
   },
   "file_extension": ".py",
   "mimetype": "text/x-python",
   "name": "python",
   "nbconvert_exporter": "python",
   "pygments_lexer": "ipython3",
   "version": "3.9.7"
  }
 },
 "nbformat": 4,
 "nbformat_minor": 5
}
