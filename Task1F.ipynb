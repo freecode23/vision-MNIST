{
 "cells": [
  {
   "cell_type": "markdown",
   "id": "071ffdea-30f2-4667-b8a0-8871f1bbd545",
   "metadata": {},
   "source": [
    "# Task 1 F"
   ]
  },
  {
   "cell_type": "markdown",
   "id": "21a342f4-003b-4a1c-8edb-64d289c4b462",
   "metadata": {},
   "source": [
    "## Read the network and run it on the test set\n"
   ]
  },
  {
   "cell_type": "markdown",
   "id": "b0189ec5-5da3-4faf-a1fe-0a5d575f3105",
   "metadata": {},
   "source": [
    "In a separate python file, read the network and run the model on the first 10 examples in the test set.\n",
    "\n",
    "Before you run the samples through the network, make sure you set the it to evaluation mode rather than training mode (network.eval()).\n",
    "\n",
    "In training mode the dropout layer randomly sets node values to zero.\n",
    "In evaluation mode, it multiplies each value by 1-dropout rate so the same pattern will generate the same output each time.\n",
    "\n",
    "For each example, have your program print out the 10 output values (use only 2 decimal places), the index of the max output value, and the correct label of the digit. The network should correctly classify all 10 of the examples.\n",
    "\n",
    "Have your program also plot the first 9 digits as a 3x3 grid with the prediction for each example below it,\n",
    "\n",
    "Include a table (or screen shot) of your printed values and the plot of the first 9 digits in your report.\n",
    "\n"
   ]
  },
  {
   "cell_type": "code",
   "execution_count": 1,
   "id": "2646e9db-e6a7-4108-9fc5-8a395cb2826a",
   "metadata": {},
   "outputs": [],
   "source": [
    "import sys\n",
    "\n",
    "import nbimporter\n",
    "import Task1AE as networkNotebook\n",
    "\n",
    "import torch\n",
    "import torch.optim as optim\n",
    "\n",
    "import torchvision\n",
    "\n",
    "from matplotlib import pyplot as plt\n"
   ]
  },
  {
   "cell_type": "code",
   "execution_count": 2,
   "id": "050b80d6-1953-4432-bfbe-606b67f4383a",
   "metadata": {},
   "outputs": [],
   "source": [
    "def init_network():\n",
    "    # init network from notebook 1AE\n",
    "    network = networkNotebook.NeuralNetwork()\n",
    "\n",
    "    # init optimizer \n",
    "    learning_rate = 0.1\n",
    "    momentum = 0.5\n",
    "    optimizer = optim.SGD(network.parameters(),\n",
    "                      lr=learning_rate,\n",
    "                       momentum=momentum)\n",
    "    \n",
    "    # load the network state as we last saved them\n",
    "    network_state_dict = torch.load(\"results/model.pth\")\n",
    "    network.load_state_dict(network_state_dict)\n",
    "    \n",
    "    return network"
   ]
  },
  {
   "cell_type": "code",
   "execution_count": 3,
   "id": "9e81ac05-8c5e-4224-af48-17e2c06940a2",
   "metadata": {},
   "outputs": [],
   "source": [
    "def load_first10_data(): \n",
    "    # get the loader\n",
    "    test_loader = networkNotebook.loadData(is_train=False)\n",
    "    test_data, test_targer = next(iter(test_loader))    \n",
    "    return test_data[:10]"
   ]
  },
  {
   "cell_type": "code",
   "execution_count": 4,
   "id": "ce4cba43-e7c5-4e7b-98c4-bafedc42773f",
   "metadata": {},
   "outputs": [],
   "source": [
    "def run_network(network, data):\n",
    "\n",
    "    # run the the network with test data\n",
    "    network.eval()\n",
    "    with torch.no_grad():\n",
    "        output = network(data)\n",
    "    return output"
   ]
  },
  {
   "cell_type": "code",
   "execution_count": 5,
   "id": "e241f0dd-7a71-4b97-9b9d-94e36d066b49",
   "metadata": {},
   "outputs": [],
   "source": [
    "\n",
    "def print_plot_output(output,first10):\n",
    "    # print values and index of max\n",
    "    for data in output.data:\n",
    "        print(\"\\n\")\n",
    "        # print(data)\n",
    "        meta_data = data.max(dim=0)\n",
    "        formatted_list = [ '%.2f' % elem for elem in data ]\n",
    "        print(\"values:\")\n",
    "        print(', '.join(formatted_list))\n",
    "        print(\"index of max: {}\".format(meta_data[1].item()))\n",
    "\n",
    "    fig = plt.figure(figsize=(10,10))\n",
    "    # plot\n",
    "    for i in range(9):\n",
    "        # 1. set the fig\n",
    "        plt.subplot(3, 3, i+1)\n",
    "        plt.tight_layout()\n",
    "        plt.imshow(first10[i][0], cmap='gray', interpolation='none')\n",
    "  \n",
    "        # 2. get the list of prediciton and print\n",
    "        preds = output.data.max(1, keepdim=True)[1]\n",
    "    \n",
    "        plt.title(\"Prediction: {}\".format(\n",
    "            preds[i].item()))\n",
    "\n",
    "        # remove x, y values\n",
    "        plt.xticks([])\n",
    "        # plt.yticks([])\n",
    "\n",
    "    \n"
   ]
  },
  {
   "cell_type": "code",
   "execution_count": 6,
   "id": "3da3bb26-f0ea-4a68-99cb-26d6b47874b5",
   "metadata": {},
   "outputs": [],
   "source": [
    "def main(argv): \n",
    "    network = init_network()\n",
    "    first10 = load_first10_data()\n",
    "    output = run_network(network, first10)\n",
    "    print_plot_output(output, first10)"
   ]
  },
  {
   "cell_type": "code",
   "execution_count": 7,
   "id": "9fcee5b5-efc1-4c0e-a4d4-6c96262f4bea",
   "metadata": {},
   "outputs": [
    {
     "name": "stderr",
     "output_type": "stream",
     "text": [
      "Task1AE.ipynb:38: UserWarning: Implicit dimension choice for log_softmax has been deprecated. Change the call to include dim=X as an argument.\n",
      "  ]\n"
     ]
    },
    {
     "name": "stdout",
     "output_type": "stream",
     "text": [
      "\n",
      "\n",
      "values:\n",
      "-33.30, -27.07, -18.87, -20.64, -26.58, -31.91, -43.37, 0.00, -26.50, -19.35\n",
      "index of max: 7\n",
      "\n",
      "\n",
      "values:\n",
      "-15.85, -15.95, -0.00, -16.68, -19.87, -29.83, -20.39, -15.22, -17.65, -28.19\n",
      "index of max: 2\n",
      "\n",
      "\n",
      "values:\n",
      "-24.46, -0.00, -14.96, -21.94, -12.21, -23.11, -18.05, -13.77, -16.73, -21.74\n",
      "index of max: 1\n",
      "\n",
      "\n",
      "values:\n",
      "-0.00, -28.81, -17.65, -22.95, -25.02, -18.40, -14.96, -24.83, -16.53, -18.02\n",
      "index of max: 0\n",
      "\n",
      "\n",
      "values:\n",
      "-37.01, -31.93, -28.89, -33.48, -0.00, -27.44, -25.87, -25.79, -26.20, -11.21\n",
      "index of max: 4\n",
      "\n",
      "\n",
      "values:\n",
      "-29.51, -0.00, -17.68, -25.86, -13.65, -27.34, -21.50, -15.72, -19.19, -25.20\n",
      "index of max: 1\n",
      "\n",
      "\n",
      "values:\n",
      "-26.83, -13.34, -19.00, -19.62, -0.00, -15.74, -18.77, -14.46, -7.87, -6.13\n",
      "index of max: 4\n",
      "\n",
      "\n",
      "values:\n",
      "-21.25, -21.22, -20.80, -14.46, -5.48, -8.26, -20.34, -15.22, -11.31, -0.00\n",
      "index of max: 9\n",
      "\n",
      "\n",
      "values:\n",
      "-15.61, -23.54, -23.39, -19.59, -18.73, -0.02, -4.41, -25.87, -4.69, -13.02\n",
      "index of max: 5\n",
      "\n",
      "\n",
      "values:\n",
      "-36.66, -31.47, -33.36, -25.41, -11.84, -22.20, -36.13, -13.80, -17.42, -0.00\n",
      "index of max: 9\n"
     ]
    },
    {
     "data": {
      "image/png": "[encoded data removed]",
      "text/plain": [
       "<Figure size 720x720 with 9 Axes>"
      ]
     },
     "metadata": {
      "needs_background": "light"
     },
     "output_type": "display_data"
    }
   ],
   "source": [
    "if __name__ == \"__main__\":\n",
    "    main(sys.argv)"
   ]
  },
  {
   "cell_type": "code",
   "execution_count": null,
   "id": "2e462182-08d0-4266-8ad2-1d299c57a734",
   "metadata": {},
   "outputs": [],
   "source": []
  }
 ],
 "metadata": {
  "kernelspec": {
   "display_name": "Python [conda env:root] *",
   "language": "python",
   "name": "conda-root-py"
  },
  "language_info": {
   "codemirror_mode": {
    "name": "ipython",
    "version": 3
   },
   "file_extension": ".py",
   "mimetype": "text/x-python",
   "name": "python",
   "nbconvert_exporter": "python",
   "pygments_lexer": "ipython3",
   "version": "3.9.7"
  }
 },
 "nbformat": 4,
 "nbformat_minor": 5
}
