{
 "cells": [
  {
   "cell_type": "markdown",
   "id": "071ffdea-30f2-4667-b8a0-8871f1bbd545",
   "metadata": {},
   "source": [
    "# Task 1 FG"
   ]
  },
  {
   "cell_type": "markdown",
   "id": "21a342f4-003b-4a1c-8edb-64d289c4b462",
   "metadata": {},
   "source": [
    "## Read the network and run it on the test set\n"
   ]
  },
  {
   "cell_type": "markdown",
   "id": "b0189ec5-5da3-4faf-a1fe-0a5d575f3105",
   "metadata": {},
   "source": [
    "In a separate python file, read the network and run the model on the first 10 examples in the test set.\n",
    "\n",
    "Before you run the samples through the network, make sure you set the it to evaluation mode rather than training mode (network.eval()).\n",
    "\n",
    "In training mode the dropout layer randomly sets node values to zero.\n",
    "In evaluation mode, it multiplies each value by 1-dropout rate so the same pattern will generate the same output each time.\n",
    "\n",
    "For each example, have your program print out the 10 output values (use only 2 decimal places), the index of the max output value, and the correct label of the digit. The network should correctly classify all 10 of the examples.\n",
    "\n",
    "Have your program also plot the first 9 digits as a 3x3 grid with the prediction for each example below it,\n",
    "\n",
    "Include a table (or screen shot) of your printed values and the plot of the first 9 digits in your report.\n",
    "\n"
   ]
  },
  {
   "cell_type": "code",
   "execution_count": 12,
   "id": "2646e9db-e6a7-4108-9fc5-8a395cb2826a",
   "metadata": {},
   "outputs": [],
   "source": [
    "import sys\n",
    "\n",
    "import nbimporter\n",
    "import Task1AE as networkNotebook\n",
    "\n",
    "import torch\n",
    "import torch.optim as optim\n",
    "\n",
    "import torchvision\n",
    "from torchvision import datasets, transforms\n",
    "\n",
    "from pathlib import Path\n",
    "from matplotlib import pyplot as plt\n"
   ]
  },
  {
   "cell_type": "code",
   "execution_count": 13,
   "id": "050b80d6-1953-4432-bfbe-606b67f4383a",
   "metadata": {},
   "outputs": [],
   "source": [
    "\n",
    "# A function that initilize loads the network state as it last saved\n",
    "# and return the network\n",
    "def load_network_state(network):\n",
    "\n",
    "    # load the network state as we last saved them\n",
    "    network_state_dict = torch.load(\"results/model.pth\")\n",
    "    network.load_state_dict(network_state_dict)\n",
    "    \n",
    "    # question what it the network and\n",
    "    # the last saved state is not the same network?\n",
    "    # its the child\n",
    "    return network"
   ]
  },
  {
   "cell_type": "code",
   "execution_count": 14,
   "id": "9e81ac05-8c5e-4224-af48-17e2c06940a2",
   "metadata": {},
   "outputs": [],
   "source": [
    "\n",
    "# A function that takes in a dataloader and \n",
    "# return the first N data from the loader\n",
    "\n",
    "def load_firstN_data(dataloader, n): \n",
    "    data, target = next(iter(dataloader))\n",
    "    return data[:n]"
   ]
  },
  {
   "cell_type": "code",
   "execution_count": 15,
   "id": "ce4cba43-e7c5-4e7b-98c4-bafedc42773f",
   "metadata": {},
   "outputs": [],
   "source": [
    "\n",
    "# A function that takes in a network model and a dataset\n",
    "# it will run the network on the data and return the output\n",
    "\n",
    "def run_network(network, data):\n",
    "    network.eval()\n",
    "    with torch.no_grad():\n",
    "        output = network(data)\n",
    "    return output"
   ]
  },
  {
   "cell_type": "code",
   "execution_count": 16,
   "id": "e241f0dd-7a71-4b97-9b9d-94e36d066b49",
   "metadata": {},
   "outputs": [],
   "source": [
    "\n",
    "# A function that takes in an output after running a network, \n",
    "# the first N input data.\n",
    "# it will :\n",
    "# 1. print the values of each output matrix, \n",
    "# and the index of the maximum value which will indicate the number that is predicted\n",
    "# 2. plot the resulting predicion\n",
    "\n",
    "def print_plot_output(output,firstN, n):\n",
    "    # 1. print values and index of max\n",
    "    for data in output.data:\n",
    "        print(\"\\n\")\n",
    "        meta_data = data.max(dim=0)\n",
    "        formatted_list = [ '%.2f' % elem for elem in data ]\n",
    "        print(\"values:\")\n",
    "        print(', '.join(formatted_list))\n",
    "        print(\"index of max: {}\".format(meta_data[1].item()))\n",
    "\n",
    "    fig = plt.figure(figsize=(8,8))\n",
    "    \n",
    "    \n",
    "    # 2. plot\n",
    "    for i in range(n-1):\n",
    "        # 1. set the fig\n",
    "        plt.subplot(3, 3, i+1)\n",
    "        plt.tight_layout()\n",
    "        plt.imshow(firstN[i][0], cmap='gray', interpolation='none')\n",
    "        \n",
    "        # - get the list of prediciton and print\n",
    "        preds = output.data.max(1, keepdim=True)[1]\n",
    "    \n",
    "        plt.title(\"Prediction: {}\".format(\n",
    "            preds[i].item()))\n",
    "        \n",
    "        # - remove x, y values\n",
    "        plt.xticks([])\n",
    "        # plt.yticks([])\n",
    "\n",
    "    \n"
   ]
  },
  {
   "cell_type": "code",
   "execution_count": 17,
   "id": "e17d4468-134f-4bac-9b4a-566f9ef81443",
   "metadata": {},
   "outputs": [],
   "source": [
    "def predict(network, loader, n):\n",
    "    \"\"\"\n",
    "    A function that takes a network, a data loader and n number\n",
    "    it will get the first N data from the loader and run the network with\n",
    "    these data. It will then print the and plot the ouput\n",
    "    \n",
    "    \"\"\"\n",
    "    firstN = load_firstN_data(loader, n)\n",
    "    output = run_network(network, firstN)\n",
    "    print(\"data shape:\", firstN.shape)\n",
    "    print(\"output shape:\", output.shape)\n",
    "    print_plot_output(output, firstN, n)"
   ]
  },
  {
   "cell_type": "code",
   "execution_count": 18,
   "id": "9f458be4-5493-4e2e-9c50-7e3b5b41719f",
   "metadata": {
    "scrolled": true,
    "tags": []
   },
   "outputs": [],
   "source": [
    "# check the value in MNIST dataset\n",
    "test_loader = networkNotebook.get_loader(is_train=False)\n",
    "test_data, test_target = next(iter(test_loader))\n",
    "# print(\">>>>>>>>> MNIST data sample: \\n\", test_data[0])\n"
   ]
  },
  {
   "cell_type": "markdown",
   "id": "676b4c3c-cedd-4f34-9efe-c4c7abec3fa0",
   "metadata": {},
   "source": [
    "## 4. Test the network on new inputs - G\n",
    "Write out the ten digits [0-9] in your own handwriting on a piece of white paper (not too close together). Scale them to 28x28 and look at them to make sure the digits are visible.\n",
    "\n",
    "In a separate file, or as the last step in your code from the prior task, read the images, convert them to greyscale, resize them to 28x28 (if necessary) and run them through the network. During the resize process, double-check that the digits are still clearly visible. Make sure to match the intensities of the new images to the intensities of the test data. Are the MNIST data set digits white on black or are the digits black on white? You may need to invert the intensities for them to match.\n",
    "\n",
    "Display how well the network performed on this new input in your report."
   ]
  },
  {
   "cell_type": "code",
   "execution_count": 19,
   "id": "3c60507d-ca82-47ab-885c-79f3adde3a88",
   "metadata": {
    "scrolled": true,
    "tags": []
   },
   "outputs": [
    {
     "name": "stdout",
     "output_type": "stream",
     "text": [
      "Directory path:  images/\n",
      "Folder name:  ['own_greek', 'greek', 'digits', '.ipynb_checkpoints']\n",
      "Directory path:  images/own_greek\n",
      "Folder name:  ['.ipynb_checkpoints']\n",
      "Directory path:  images/own_greek/.ipynb_checkpoints\n",
      "Folder name:  []\n",
      "Directory path:  images/greek\n",
      "Folder name:  ['beta', 'gamma', 'alpha']\n",
      "Directory path:  images/greek/beta\n",
      "Folder name:  ['.ipynb_checkpoints']\n",
      "Directory path:  images/greek/beta/.ipynb_checkpoints\n",
      "Folder name:  []\n",
      "Directory path:  images/greek/gamma\n",
      "Folder name:  ['.ipynb_checkpoints']\n",
      "Directory path:  images/greek/gamma/.ipynb_checkpoints\n",
      "Folder name:  []\n",
      "Directory path:  images/greek/alpha\n",
      "Folder name:  []\n",
      "Directory path:  images/digits\n",
      "Folder name:  ['9', '0', '7', '6', '1', '8', '4', '3', '2', '5']\n",
      "Directory path:  images/digits/9\n",
      "Folder name:  []\n",
      "Directory path:  images/digits/0\n",
      "Folder name:  []\n",
      "Directory path:  images/digits/7\n",
      "Folder name:  []\n",
      "Directory path:  images/digits/6\n",
      "Folder name:  []\n",
      "Directory path:  images/digits/1\n",
      "Folder name:  []\n",
      "Directory path:  images/digits/8\n",
      "Folder name:  []\n",
      "Directory path:  images/digits/4\n",
      "Folder name:  []\n",
      "Directory path:  images/digits/3\n",
      "Folder name:  []\n",
      "Directory path:  images/digits/2\n",
      "Folder name:  []\n",
      "Directory path:  images/digits/5\n",
      "Folder name:  ['.ipynb_checkpoints']\n",
      "Directory path:  images/digits/5/.ipynb_checkpoints\n",
      "Folder name:  []\n",
      "Directory path:  images/.ipynb_checkpoints\n",
      "Folder name:  []\n"
     ]
    }
   ],
   "source": [
    "# Check that folders are set correctly\n",
    "from os import walk\n",
    "for (dirpath, dirnames, filenames) in walk(\"images/\"):\n",
    "    print(\"Directory path: \", dirpath)\n",
    "    print(\"Folder name: \", dirnames)"
   ]
  },
  {
   "cell_type": "code",
   "execution_count": 20,
   "id": "7a5e828b-fd8b-48cf-a4bf-11206dd65415",
   "metadata": {},
   "outputs": [],
   "source": [
    "import PIL.ImageOps\n",
    "\n",
    "class NegativeMaxContrast(object):\n",
    "    \"\"\"Convert image to negative and Maximize contrast\n",
    "    so that the lowest becomes black and the lightest becomes white\n",
    "\n",
    "    Args:\n",
    "        \n",
    "\n",
    "    Returns:\n",
    "        PIL Image: transformed version of the input.\n",
    "         \n",
    "    \"\"\"\n",
    "    def __init__(self):\n",
    "        pass\n",
    "    \n",
    "    def __call__(self, img):\n",
    "        \"\"\"\n",
    "        Args:\n",
    "            img (PIL Image): Image to be converted.\n",
    "\n",
    "        Returns:\n",
    "            PIL Image: Negatived and contrasted image.\n",
    "        \"\"\"\n",
    "        img = transforms.functional.adjust_contrast(img, 10)\n",
    "        img = PIL.ImageOps.invert(img)\n",
    "        return img\n",
    "\n",
    "\n"
   ]
  },
  {
   "cell_type": "code",
   "execution_count": 21,
   "id": "1839cda1-4374-4329-931b-5e1d5234679e",
   "metadata": {},
   "outputs": [],
   "source": [
    "def check_valid(path):\n",
    "    path = Path(path)\n",
    "    return not path.stem.startswith('.')\n",
    "\n",
    "def main(argv): \n",
    "    # 1. Predict MNIST first 10\n",
    "    network = load_network_state(networkNotebook.NeuralNetwork()\n",
    ")\n",
    "    print(\">>>>>>>>>>>>>> MNIST dataset prediction output:\")\n",
    "    test_loader = networkNotebook.get_loader(is_train=False)\n",
    "    predict(network, test_loader, 10)\n",
    "    \n",
    "    \n",
    "    # 2. Predict Own dataset\n",
    "    print(\">>>>>>>>>>>>>> OWN dataset prediction output:\")\n",
    "    # - set up the transformation for our dataset\n",
    "    transform = transforms.Compose(\n",
    "                [ \n",
    "                    NegativeMaxContrast(),\n",
    "                    transforms.Grayscale(),\n",
    "                    transforms.Resize(28),\n",
    "                    transforms.ToTensor(),\n",
    "                    # normalize with mean and std\n",
    "                    transforms.Normalize((0.1307,), (0.3801,)),\n",
    "                ])\n",
    "\n",
    "    # - create the dataset from our images folder to datasets\n",
    "    own_dataset = datasets.ImageFolder('images/digits', transform=transform, is_valid_file=check_valid)\n",
    "\n",
    "    # - get dataloader for our 10 images\n",
    "    own_loader = torch.utils.data.DataLoader(own_dataset, batch_size=10, shuffle=True)\n",
    "    print(len(own_dataset))\n",
    "    # check the value in OWN dataset\n",
    "    own_data, own_target = next(iter(own_loader))\n",
    "                 \n",
    "    # - predict the first 10 data from the loader\n",
    "    predict(network, own_loader, 10)\n",
    "    "
   ]
  },
  {
   "cell_type": "code",
   "execution_count": 23,
   "id": "87e0be0c-ca99-407a-91c5-98612d5062e4",
   "metadata": {
    "scrolled": true,
    "tags": []
   },
   "outputs": [
    {
     "name": "stdout",
     "output_type": "stream",
     "text": [
      ">>>>>>>>>>>>>> MNIST dataset prediction output:\n",
      "data shape: torch.Size([10, 1, 28, 28])\n",
      "output shape: torch.Size([10, 10])\n",
      "\n",
      "\n",
      "values:\n",
      "-24.19, -23.40, -14.99, -17.09, -25.12, -24.71, -33.98, -0.00, -22.18, -16.11\n",
      "index of max: 7\n",
      "\n",
      "\n",
      "values:\n",
      "-12.70, -11.62, -0.00, -18.31, -14.96, -26.09, -17.58, -17.33, -12.35, -21.78\n",
      "index of max: 2\n",
      "\n",
      "\n",
      "values:\n",
      "-15.45, -0.00, -11.24, -13.88, -11.09, -14.50, -14.51, -10.87, -9.42, -13.95\n",
      "index of max: 1\n",
      "\n",
      "\n",
      "values:\n",
      "-0.00, -22.72, -15.39, -18.33, -20.63, -16.00, -14.85, -18.55, -16.52, -15.46\n",
      "index of max: 0\n",
      "\n",
      "\n",
      "values:\n",
      "-21.47, -25.12, -18.50, -22.28, -0.00, -19.70, -18.03, -20.89, -14.52, -9.71\n",
      "index of max: 4\n",
      "\n",
      "\n",
      "values:\n",
      "-17.83, -0.00, -15.20, -17.37, -11.90, -18.35, -19.38, -11.07, -12.42, -15.13\n",
      "index of max: 1\n",
      "\n",
      "\n",
      "values:\n",
      "-23.11, -17.44, -17.37, -16.71, -0.00, -13.38, -19.55, -11.61, -8.56, -6.29\n",
      "index of max: 4\n",
      "\n",
      "\n",
      "values:\n",
      "-21.44, -22.08, -13.99, -14.87, -6.81, -11.35, -21.70, -16.51, -11.74, -0.00\n",
      "index of max: 9\n",
      "\n",
      "\n",
      "values:\n",
      "-19.66, -27.99, -22.19, -22.19, -21.33, -0.01, -5.24, -27.05, -7.15, -16.72\n",
      "index of max: 5\n",
      "\n",
      "\n",
      "values:\n",
      "-25.40, -28.40, -21.08, -20.56, -12.35, -18.28, -28.99, -10.19, -13.35, -0.00\n",
      "index of max: 9\n",
      ">>>>>>>>>>>>>> OWN dataset prediction output:\n",
      "10\n",
      "data shape: torch.Size([10, 1, 28, 28])\n",
      "output shape: torch.Size([10, 10])\n",
      "\n",
      "\n",
      "values:\n",
      "-24.29, -9.15, -16.18, -14.70, -0.01, -13.89, -22.95, -7.17, -13.24, -4.72\n",
      "index of max: 4\n",
      "\n",
      "\n",
      "values:\n",
      "-9.90, -16.37, -11.46, -7.87, -12.74, -0.05, -10.58, -3.01, -10.16, -8.22\n",
      "index of max: 5\n",
      "\n",
      "\n",
      "values:\n",
      "-0.45, -7.77, -1.46, -2.72, -9.33, -6.84, -9.92, -4.81, -3.08, -4.70\n",
      "index of max: 0\n",
      "\n",
      "\n",
      "values:\n",
      "-15.00, -12.74, -14.49, -11.14, -10.02, -0.08, -4.06, -18.88, -2.85, -12.42\n",
      "index of max: 5\n",
      "\n",
      "\n",
      "values:\n",
      "-5.79, -8.23, -8.22, -9.00, -6.11, -3.99, -0.03, -10.42, -4.66, -8.38\n",
      "index of max: 6\n",
      "\n",
      "\n",
      "values:\n",
      "-11.89, -17.71, -15.63, -0.01, -16.65, -4.62, -16.18, -15.23, -14.93, -11.35\n",
      "index of max: 3\n",
      "\n",
      "\n",
      "values:\n",
      "-12.07, -2.13, -7.65, -8.50, -7.27, -12.40, -16.60, -0.13, -9.16, -10.19\n",
      "index of max: 7\n",
      "\n",
      "\n",
      "values:\n",
      "-17.81, -11.31, -0.00, -13.23, -5.55, -20.70, -19.49, -12.91, -12.31, -22.94\n",
      "index of max: 2\n",
      "\n",
      "\n",
      "values:\n",
      "-24.68, -23.55, -20.44, -11.02, -12.97, -14.47, -27.91, -18.60, -9.68, -0.00\n",
      "index of max: 9\n",
      "\n",
      "\n",
      "values:\n",
      "-10.95, -0.07, -3.03, -8.15, -9.59, -9.80, -9.14, -6.75, -4.21, -11.23\n",
      "index of max: 1\n"
     ]
    },
    {
     "data": {
      "image/png": "[encoded data removed]",
      "text/plain": [
       "<Figure size 576x576 with 9 Axes>"
      ]
     },
     "metadata": {
      "needs_background": "light"
     },
     "output_type": "display_data"
    },
    {
     "data": {
      "image/png": "[encoded data removed]",
      "text/plain": [
       "<Figure size 576x576 with 9 Axes>"
      ]
     },
     "metadata": {
      "needs_background": "light"
     },
     "output_type": "display_data"
    }
   ],
   "source": [
    "if __name__ == \"__main__\":\n",
    "    main(sys.argv)"
   ]
  },
  {
   "cell_type": "code",
   "execution_count": null,
   "id": "9ad0f28b-a41c-4f55-a1bc-18da292c493f",
   "metadata": {},
   "outputs": [],
   "source": [
    "# Question: why and 7 and 6 is not well detected. should i add some transform? Is it because the contrast is different? value is not the same range"
   ]
  },
  {
   "cell_type": "code",
   "execution_count": null,
   "id": "940ab6c8-200e-4433-867f-2110bb8bb761",
   "metadata": {},
   "outputs": [],
   "source": [
    "# Question: Whats the difference with making dataset using ImageFolder() VS creating DataSet class"
   ]
  }
 ],
 "metadata": {
  "kernelspec": {
   "display_name": "Python [conda env:root] *",
   "language": "python",
   "name": "conda-root-py"
  },
  "language_info": {
   "codemirror_mode": {
    "name": "ipython",
    "version": 3
   },
   "file_extension": ".py",
   "mimetype": "text/x-python",
   "name": "python",
   "nbconvert_exporter": "python",
   "pygments_lexer": "ipython3",
   "version": "3.9.7"
  }
 },
 "nbformat": 4,
 "nbformat_minor": 5
}
