{
 "cells": [
  {
   "cell_type": "code",
   "execution_count": 1,
   "id": "9f0dd1b7-47ac-4bab-b157-763c4a735b56",
   "metadata": {},
   "outputs": [],
   "source": [
    "import sys\n",
    "import torch\n",
    "import torch.nn as nn\n",
    "import torch.nn.functional as F\n",
    "import torch.optim as optim\n",
    "import torchvision\n",
    "from matplotlib import pyplot as plt\n",
    "\n"
   ]
  },
  {
   "cell_type": "markdown",
   "id": "cce991c6-6ad0-47f0-93b4-49b5d551994c",
   "metadata": {},
   "source": [
    "# 1. Build and train a network to recognize digits\n"
   ]
  },
  {
   "cell_type": "markdown",
   "id": "8c370574-7067-4ba9-9a65-baeca2c55704",
   "metadata": {},
   "source": [
    "## A. Get the MNIST digit data set\n",
    "The MNIST digit data consists of a training set of 60k 28x28 labeled digits and a test set of 10k 28x28 labeled digits. The data set can be imported directly from the torchvision package as torchvision.datasets.MNIST. Use the matplotlib pyplot package or OpenCV to look at the first six example digits. Look up examples that make use of the pyplot subplot method to create a grid of plots.\n",
    "\n",
    "Include a plot of the first six example digits in your report.\n"
   ]
  },
  {
   "cell_type": "code",
   "execution_count": 2,
   "id": "1dbcef4a-052c-487f-9e97-e4a19045c74f",
   "metadata": {},
   "outputs": [],
   "source": [
    "\n",
    "\n",
    "def loadData():\n",
    "    batch_train= 1000\n",
    "    data_loader = torch.utils.data.DataLoader(\n",
    "        torchvision.datasets.MNIST(\n",
    "            'mnist',\n",
    "            train=True,\n",
    "            download=True,\n",
    "            transform=torchvision.transforms.Compose(\n",
    "                [torchvision.transforms.ToTensor(),\n",
    "                 torchvision.transforms.Normalize(\n",
    "                    #   normalize with mean and std\n",
    "                    (0.1307,), (0.3801,)\n",
    "                )\n",
    "                ])),\n",
    "        batch_size=batch_train,\n",
    "        shuffle=False)\n",
    "\n",
    "\n",
    "    \n",
    "    # Enumerate on test loader will give me batch index \n",
    "    # the train loader itself returning the images(example_data) and the label for it (example_target)\n",
    "    return data_loader\n",
    "\n",
    "\n",
    "\n",
    "    "
   ]
  },
  {
   "cell_type": "code",
   "execution_count": 3,
   "id": "a68280ab-d4ef-4623-b62a-eda0a7ebb673",
   "metadata": {},
   "outputs": [],
   "source": [
    "def plotData(data_loader) :\n",
    "    figure = plt.figure(figsize=(8, 8))\n",
    "    \n",
    "    # get the X and y\n",
    "    examples = enumerate(data_loader)\n",
    "    batch_idx, (sample_data, sample_targets) = next(examples)\n",
    "    print(\"examining train_data\")\n",
    "    \n",
    "    # print\n",
    "    print(batch_idx)\n",
    "    print(sample_data.shape)\n",
    "    print(sample_targets.shape)\n",
    "    \n",
    "    \n",
    "    # plot the first 6 sample\n",
    "    fig = plt.figure()\n",
    "    for i in range(6):\n",
    "        plt.subplot(2, 3, i+1)\n",
    "        plt.tight_layout()\n",
    "        plt.imshow(training_data[i][0], cmap=\"gray\", interpolation=\"none\")\n",
    "        plt.title(\"Ground truth: %d\" %(sample_targets[i]))\n",
    "        plt.xticks([])\n",
    "                  \n",
    "    plt.show()"
   ]
  },
  {
   "cell_type": "code",
   "execution_count": 6,
   "id": "a43d8e4d-6f48-4ec9-a540-2231ceafaae3",
   "metadata": {},
   "outputs": [
    {
     "ename": "NameError",
     "evalue": "name 'load_data' is not defined",
     "output_type": "error",
     "traceback": [
      "\u001b[0;31m---------------------------------------------------------------------------\u001b[0m",
      "\u001b[0;31mNameError\u001b[0m                                 Traceback (most recent call last)",
      "\u001b[0;32m/var/folders/76/26vt73dx7psbzwyygdm5wtt40000gn/T/ipykernel_90505/3034296825.py\u001b[0m in \u001b[0;36m<module>\u001b[0;34m\u001b[0m\n\u001b[0;32m----> 1\u001b[0;31m \u001b[0mdata_loader\u001b[0m \u001b[0;34m=\u001b[0m \u001b[0mload_data\u001b[0m\u001b[0;34m(\u001b[0m\u001b[0;34m)\u001b[0m\u001b[0;34m\u001b[0m\u001b[0;34m\u001b[0m\u001b[0m\n\u001b[0m\u001b[1;32m      2\u001b[0m \u001b[0mplot_data\u001b[0m\u001b[0;34m(\u001b[0m\u001b[0mdata_loader\u001b[0m\u001b[0;34m)\u001b[0m\u001b[0;34m\u001b[0m\u001b[0;34m\u001b[0m\u001b[0m\n",
      "\u001b[0;31mNameError\u001b[0m: name 'load_data' is not defined"
     ]
    }
   ],
   "source": [
    "data_loader = loadData()\n",
    "plot_data(data_loader)\n"
   ]
  },
  {
   "cell_type": "code",
   "execution_count": null,
   "id": "e0fa8753-ad60-4bd5-9827-1236c9ff5924",
   "metadata": {},
   "outputs": [],
   "source": []
  }
 ],
 "metadata": {
  "kernelspec": {
   "display_name": "Python [conda env:root] *",
   "language": "python",
   "name": "conda-root-py"
  },
  "language_info": {
   "codemirror_mode": {
    "name": "ipython",
    "version": 3
   },
   "file_extension": ".py",
   "mimetype": "text/x-python",
   "name": "python",
   "nbconvert_exporter": "python",
   "pygments_lexer": "ipython3",
   "version": "3.9.7"
  }
 },
 "nbformat": 4,
 "nbformat_minor": 5
}
