{
 "cells": [
  {
   "cell_type": "markdown",
   "id": "8b2f9735-534a-4693-a7d7-12ed44825c8e",
   "metadata": {},
   "source": [
    "# Task 2. Examine your network\n",
    "\n",
    "Examine the network and analyze how it processes the data.\n",
    "Read in the trained network as the first step and print the model.\n",
    "\n",
    "This should show you the structure of the network and the name of each layer."
   ]
  },
  {
   "cell_type": "code",
   "execution_count": 3,
   "id": "7bc080bd-c0ce-4849-97c7-a5b0ca39e9a6",
   "metadata": {},
   "outputs": [],
   "source": [
    "import sys\n",
    "\n",
    "import nbimporter\n",
    "import Task1AE as Task1AENotebook\n",
    "import Task1FG as TaskFGNotebook\n",
    "\n",
    "import torch\n",
    "import torch.optim as optim\n",
    "\n",
    "import torchvision\n",
    "from torchvision import datasets, transforms\n",
    "\n",
    "from matplotlib import pyplot as plt\n"
   ]
  },
  {
   "cell_type": "code",
   "execution_count": 6,
   "id": "69a6d863-3431-45ae-b161-a355314ba348",
   "metadata": {},
   "outputs": [
    {
     "name": "stdout",
     "output_type": "stream",
     "text": [
      "NeuralNetwork(\n",
      "  (conv1): Conv2d(1, 10, kernel_size=(5, 5), stride=(1, 1))\n",
      "  (conv2): Conv2d(10, 20, kernel_size=(5, 5), stride=(1, 1))\n",
      "  (conv2_drop): Dropout2d(p=0.5, inplace=False)\n",
      "  (fc1): Linear(in_features=320, out_features=50, bias=True)\n",
      "  (fc2): Linear(in_features=50, out_features=10, bias=True)\n",
      "  (flatten): Flatten(start_dim=1, end_dim=-1)\n",
      ")\n"
     ]
    }
   ],
   "source": [
    "# 1. init network from the last saved\n",
    "network = TaskFGNotebook.init_network()\n",
    "\n",
    "print(network)"
   ]
  },
  {
   "cell_type": "markdown",
   "id": "b7478331-84ad-4584-8808-0928a4fd2918",
   "metadata": {},
   "source": [
    "## A. Analyze the first layer\n",
    "\n",
    "Get the weights of the first layer. When accessing a network, use the name of the layer as specified in the model printout. In this case, the name should be conv1. You access the weights using model.conv1.weight. The result is a tensor that should have the shape [10, 1, 5, 5]. That means there are ten filters, each 5x5 in size. To access the ith 5x5 filter, use weights[i, 0]. Print the filter weights and their shape.\n",
    "\n",
    "Visualize the ten filters using pyplot.\n",
    "\n",
    "You can use the pyplot functions figure, subplot, and imshow to make a 3x4 grid of figures such as the image below. If you set xticks and yticks to the empty list [], it will give you a cleaner plot."
   ]
  },
  {
   "cell_type": "code",
   "execution_count": null,
   "id": "a7c64da7-62bb-47e1-ba7e-fac1af3dafbf",
   "metadata": {},
   "outputs": [],
   "source": []
  }
 ],
 "metadata": {
  "kernelspec": {
   "display_name": "Python [conda env:root] *",
   "language": "python",
   "name": "conda-root-py"
  },
  "language_info": {
   "codemirror_mode": {
    "name": "ipython",
    "version": 3
   },
   "file_extension": ".py",
   "mimetype": "text/x-python",
   "name": "python",
   "nbconvert_exporter": "python",
   "pygments_lexer": "ipython3",
   "version": "3.9.7"
  }
 },
 "nbformat": 4,
 "nbformat_minor": 5
}
