{
 "cells": [
  {
   "cell_type": "markdown",
   "id": "8b2f9735-534a-4693-a7d7-12ed44825c8e",
   "metadata": {},
   "source": [
    "# Task 2. Examine your network\n",
    "\n",
    "Examine the network and analyze how it processes the data.\n",
    "Read in the trained network as the first step and print the model.\n",
    "\n",
    "This should show you the structure of the network and the name of each layer."
   ]
  },
  {
   "cell_type": "code",
   "execution_count": 1,
   "id": "7bc080bd-c0ce-4849-97c7-a5b0ca39e9a6",
   "metadata": {},
   "outputs": [],
   "source": [
    "import sys\n",
    "\n",
    "import nbimporter\n",
    "import Task1AE as Task1AENotebook\n",
    "import Task1FG as Task1FGNotebook\n",
    "\n",
    "import torch\n",
    "import torch.optim as optim\n",
    "\n",
    "import torchvision\n",
    "from torchvision import datasets, transforms\n",
    "\n",
    "from matplotlib import pyplot as plt\n"
   ]
  },
  {
   "cell_type": "code",
   "execution_count": 2,
   "id": "69a6d863-3431-45ae-b161-a355314ba348",
   "metadata": {},
   "outputs": [
    {
     "name": "stdout",
     "output_type": "stream",
     "text": [
      "NeuralNetwork(\n",
      "  (conv1): Conv2d(1, 10, kernel_size=(5, 5), stride=(1, 1))\n",
      "  (conv2): Conv2d(10, 20, kernel_size=(5, 5), stride=(1, 1))\n",
      "  (conv2_drop): Dropout2d(p=0.5, inplace=False)\n",
      "  (fc1): Linear(in_features=320, out_features=50, bias=True)\n",
      "  (fc2): Linear(in_features=50, out_features=10, bias=True)\n",
      "  (flatten): Flatten(start_dim=1, end_dim=-1)\n",
      ")\n"
     ]
    }
   ],
   "source": [
    "# 1. init network from the last saved\n",
    "network = Task1FGNotebook.init_network()\n",
    "print(network)"
   ]
  },
  {
   "cell_type": "markdown",
   "id": "b7478331-84ad-4584-8808-0928a4fd2918",
   "metadata": {},
   "source": [
    "## A. Analyze the first layer\n",
    "\n",
    "Get the weights of the first layer.\n",
    "\n",
    "When accessing a network, use the name of the layer as specified in the model printout. In this case, the name should be conv1. You access the weights using model.conv1.weight. The result is a tensor that should have the shape [10, 1, 5, 5]. That means there are ten filters, each 5x5 in size. To access the ith 5x5 filter, use weights[i, 0]. Print the filter weights and their shape.\n",
    "\n",
    "Visualize the ten filters using pyplot.\n",
    "\n",
    "You can use the pyplot functions figure, subplot, and imshow to make a 3x4 grid of figures such as the image below. If you set xticks and yticks to the empty list [], it will give you a cleaner plot."
   ]
  },
  {
   "cell_type": "code",
   "execution_count": 6,
   "id": "63d446e1-d2af-48a8-93a8-d6dea09a870a",
   "metadata": {
    "scrolled": true,
    "tags": []
   },
   "outputs": [
    {
     "name": "stdout",
     "output_type": "stream",
     "text": [
      "\n",
      "10 of 5X5 filter: [[-0.00616714  0.00578109 -0.08054912  0.10950659  0.41173798]\n",
      " [ 0.07831135  0.43316355  0.16923112  0.08846094  0.23454832]\n",
      " [-0.00224269  0.10235976  0.22100337  0.0718096  -0.1296712 ]\n",
      " [-0.26006997 -0.0832911  -0.0555688  -0.14828    -0.24255326]\n",
      " [-0.51034886 -0.401768   -0.45485523 -0.30890504 -0.20821796]]\n",
      "shape (5, 5)\n",
      "\n",
      "10 of 5X5 filter: [[-0.20158444  0.05711301 -0.26724342 -0.02016171  0.1002958 ]\n",
      " [-0.12206714 -0.02081775 -0.08221278  0.05871231  0.24027872]\n",
      " [-0.19482088 -0.13398649 -0.1596901   0.07829323  0.37490866]\n",
      " [-0.01307653 -0.16718006  0.02244879 -0.02794683  0.35997638]\n",
      " [-0.42343807 -0.36791673 -0.25616246 -0.29661     0.32828805]]\n",
      "shape (5, 5)\n",
      "\n",
      "10 of 5X5 filter: [[ 0.26557007  0.17490964  0.21245003  0.14865388  0.3377855 ]\n",
      " [-0.07125001 -0.07694968 -0.2331604  -0.0853467  -0.14081877]\n",
      " [ 0.07397879 -0.0209775   0.08825143 -0.27354246 -0.25341928]\n",
      " [-0.11740911  0.15986098  0.0475588   0.09969246 -0.12245567]\n",
      " [-0.20219205 -0.20120636 -0.04191671  0.13220552  0.15943699]]\n",
      "shape (5, 5)\n",
      "\n",
      "10 of 5X5 filter: [[-0.0041836  -0.29317263 -0.51311266 -0.2721101  -0.24326186]\n",
      " [ 0.21426934  0.10014183  0.00858335 -0.12622176  0.15968925]\n",
      " [ 0.09641796  0.57648325  0.2925478   0.24053572  0.3215663 ]\n",
      " [-0.27138472  0.04409602  0.2244236  -0.02972995 -0.00802791]\n",
      " [-0.3049158  -0.27017155 -0.21886177 -0.17028797 -0.04529954]]\n",
      "shape (5, 5)\n",
      "\n",
      "10 of 5X5 filter: [[ 0.1334978   0.0049328  -0.05697891 -0.108009   -0.28882748]\n",
      " [-0.0412842   0.16515733 -0.09817683 -0.11864184 -0.26040915]\n",
      " [-0.0201547  -0.16235732 -0.20621958 -0.36330038 -0.03551758]\n",
      " [-0.07580633 -0.10082009 -0.1742021  -0.0232328   0.08764332]\n",
      " [-0.32556102 -0.2757954  -0.12431814 -0.0352471   0.35869095]]\n",
      "shape (5, 5)\n",
      "\n",
      "10 of 5X5 filter: [[ 0.15133893  0.11140859 -0.06201326 -0.14813244 -0.01722345]\n",
      " [ 0.00836469 -0.25740027 -0.3154315  -0.0846906   0.13273151]\n",
      " [-0.06189192 -0.21030417 -0.2389903   0.40941462  0.27611455]\n",
      " [ 0.02146376 -0.10524227  0.24276169  0.48116308 -0.06882989]\n",
      " [ 0.03406774  0.13016705  0.09730215 -0.05086023 -0.52737546]]\n",
      "shape (5, 5)\n",
      "\n",
      "10 of 5X5 filter: [[ 0.19012524  0.008481    0.2811598   0.25192606  0.08623383]\n",
      " [-0.21872029 -0.07606684  0.0186336   0.14956826 -0.08749823]\n",
      " [-0.09186924 -0.11629181  0.01898306  0.25946578  0.13723145]\n",
      " [-0.26556566 -0.09586199  0.01741918  0.09840034  0.0583919 ]\n",
      " [-0.3098558  -0.03463611 -0.03525238  0.18953481  0.14868434]]\n",
      "shape (5, 5)\n",
      "\n",
      "10 of 5X5 filter: [[-0.04093351  0.22231063  0.14797036 -0.10442835 -0.11272174]\n",
      " [ 0.03223199  0.01673494  0.3479257  -0.00818312  0.06180353]\n",
      " [-0.22770266 -0.13836636 -0.08286692  0.15373959  0.2801748 ]\n",
      " [-0.2211829   0.03589775  0.03242751  0.04306199  0.01879458]\n",
      " [-0.03362625  0.14940444  0.13325413  0.1015382  -0.22079107]]\n",
      "shape (5, 5)\n",
      "\n",
      "10 of 5X5 filter: [[ 0.11291447 -0.22895038 -0.27491122 -0.16391289 -0.08709475]\n",
      " [ 0.22207145  0.11826027 -0.13164979 -0.39394858 -0.34298116]\n",
      " [-0.06450609  0.46945477  0.22095676 -0.26996684 -0.21964608]\n",
      " [-0.34217557  0.09833066  0.38705137 -0.204972   -0.14948191]\n",
      " [-0.15668428  0.16846465  0.17443873  0.040374   -0.11930958]]\n",
      "shape (5, 5)\n",
      "\n",
      "10 of 5X5 filter: [[-0.4294891  -0.06606912  0.34635505  0.22922751  0.39829513]\n",
      " [-0.31194595 -0.09896011  0.12198042  0.09571736  0.14900203]\n",
      " [-0.6365127  -0.4202902  -0.34578907 -0.20584774 -0.32539472]\n",
      " [-0.22576883 -0.4378074  -0.4115132  -0.36004022 -0.40153426]\n",
      " [ 0.30677405  0.1704393   0.03220094  0.10048254 -0.0070403 ]]\n",
      "shape (5, 5)\n"
     ]
    },
    {
     "data": {
      "image/png": "[encoded data removed]",
      "text/plain": [
       "<Figure size 576x576 with 10 Axes>"
      ]
     },
     "metadata": {
      "needs_background": "light"
     },
     "output_type": "display_data"
    }
   ],
   "source": [
    "figure = plt.figure(figsize=(8, 8))\n",
    "weights = network.conv1.weight\n",
    "\n",
    "for i in range(10):\n",
    "    # 1. Prepare grid\n",
    "    # question why i cannot do 3X4\n",
    "    plt.subplot(4, 4, i+1)\n",
    "    plt.tight_layout()\n",
    "   \n",
    "    # 2. make sure the shape is 5X5 before doing imshow\n",
    "    filter_matrix = weights[i][0].detach().numpy()\n",
    "    print(\"\\n10 of 5X5 filter:\", filter_matrix)\n",
    "    print(\"shape\", filter_matrix.shape)\n",
    "    \n",
    "    # 3. show\n",
    "    plt.imshow(filter_matrix, interpolation=\"none\")\n",
    "    plt.xticks([])"
   ]
  },
  {
   "cell_type": "code",
   "execution_count": 8,
   "id": "c2789cb0-523d-492d-bc4e-72a299bee3cd",
   "metadata": {},
   "outputs": [
    {
     "data": {
      "text/plain": [
       "(5, 5)"
      ]
     },
     "execution_count": 8,
     "metadata": {},
     "output_type": "execute_result"
    }
   ],
   "source": [
    "weights[i][0].detach().numpy().shape"
   ]
  },
  {
   "cell_type": "markdown",
   "id": "f8476461-49f7-4462-bc3d-3eb7120f15a0",
   "metadata": {},
   "source": [
    "## B. Show the effect of the filters\n",
    "\n",
    "Use OpenCV's filter2D function to apply the 10 filters to the first training example image.\n",
    "\n",
    "Generate a plot of the 10 filtered images such as the one below. When working with the weights, you will need to tell pyTorch it does not need to calculate gradients. \n"
   ]
  },
  {
   "cell_type": "code",
   "execution_count": 9,
   "id": "a1326c45-c6a4-4370-b4dc-f90751d3ecbd",
   "metadata": {
    "scrolled": true,
    "tags": []
   },
   "outputs": [],
   "source": [
    "# 1. get the first training image (1X28X28) \n",
    "train_loader = Task1AENotebook.loadData(is_train=True)\n",
    "img = Task1FGNotebook.load_firstN_data(train_loader, 1)[0]\n"
   ]
  },
  {
   "cell_type": "code",
   "execution_count": 10,
   "id": "6200fa7a-3cbc-4574-8f0f-a9c2a543dc1e",
   "metadata": {},
   "outputs": [
    {
     "name": "stdout",
     "output_type": "stream",
     "text": [
      "torch.Size([10, 24, 24])\n"
     ]
    }
   ],
   "source": [
    "# 2. apply first conv filter to the image\n",
    "with torch.no_grad():\n",
    "    output = network.conv1(img)\n",
    "    print(output.shape)"
   ]
  },
  {
   "cell_type": "code",
   "execution_count": 45,
   "id": "32182566-3616-4792-ae94-5f213a4af3b7",
   "metadata": {},
   "outputs": [
    {
     "data": {
      "image/png": "[encoded data removed]",
      "text/plain": [
       "<Figure size 720x720 with 20 Axes>"
      ]
     },
     "metadata": {
      "needs_background": "light"
     },
     "output_type": "display_data"
    }
   ],
   "source": [
    "# 3. plot\n",
    "figure = plt.figure(figsize=(10, 10))\n",
    "\n",
    "# for matrix_index in range(10):\n",
    "matrix_index = 0\n",
    "plot_index = 1\n",
    "while(matrix_index < 10):\n",
    "    \n",
    "    # 1. draw filter\n",
    "    plt.subplot(5, 4, plot_index)\n",
    "    plt.tight_layout()\n",
    "    filter_matrix = weights[matrix_index][0].detach().numpy()\n",
    "    plt.imshow(filter_matrix, interpolation=\"none\")\n",
    "    plt.title(\"filter:%d\" %(matrix_index))\n",
    "    plt.xticks([])\n",
    "    \n",
    "    plot_index+=1\n",
    "    \n",
    "    # 2. draw output\n",
    "    plt.subplot(5, 4, plot_index)\n",
    "    plt.tight_layout()\n",
    "    output_matrix = output[matrix_index]\n",
    "    plt.title(\"filter:%d\" %(matrix_index))\n",
    "    plt.imshow(output_matrix, cmap=\"gray\",interpolation=\"none\")\n",
    "    plt.xticks([])\n",
    "    \n",
    "    matrix_index +=1\n",
    "    plot_index+=1\n",
    "    \n",
    "    \n",
    "    \n"
   ]
  },
  {
   "cell_type": "code",
   "execution_count": null,
   "id": "10308d69-b5f3-426e-94a2-a63a7baca94e",
   "metadata": {},
   "outputs": [],
   "source": [
    "# question: what does the filter mean? the yellow is to detect the stroke ?"
   ]
  },
  {
   "cell_type": "code",
   "execution_count": null,
   "id": "25cbea89-95eb-4672-a871-5cc00a3e361c",
   "metadata": {},
   "outputs": [],
   "source": []
  }
 ],
 "metadata": {
  "kernelspec": {
   "display_name": "Python [conda env:root] *",
   "language": "python",
   "name": "conda-root-py"
  },
  "language_info": {
   "codemirror_mode": {
    "name": "ipython",
    "version": 3
   },
   "file_extension": ".py",
   "mimetype": "text/x-python",
   "name": "python",
   "nbconvert_exporter": "python",
   "pygments_lexer": "ipython3",
   "version": "3.9.7"
  }
 },
 "nbformat": 4,
 "nbformat_minor": 5
}
